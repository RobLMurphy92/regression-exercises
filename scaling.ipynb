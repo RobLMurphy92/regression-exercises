{
 "cells": [
  {
   "cell_type": "markdown",
   "metadata": {},
   "source": [
    "Exercises\n",
    "\n",
    "Do your work for these exercises in a jupyter notebook named scaling. Use the telco dataset you acquired and prepped in previous lesson. Once you are finished, you may wish to repeat the exercises on another dataset for additional practice.\n",
    "\n"
   ]
  },
  {
   "cell_type": "code",
   "execution_count": 6,
   "metadata": {},
   "outputs": [],
   "source": [
    "#Imports:\n",
    "import pandas as pd\n",
    "import numpy as np\n",
    "import os\n",
    "import matplotlib.pyplot as plt\n",
    "import seaborn as sns\n",
    "import numpy as np\n",
    "\n",
    "import acquire\n",
    "import wrangle\n",
    "\n",
    "from scipy import stats\n",
    "import sklearn.preprocessing\n",
    "\n",
    "\n",
    "import warnings\n",
    "warnings.filterwarnings(\"ignore\")\n",
    "\n",
    "from sklearn.model_selection import train_test_split"
   ]
  },
  {
   "cell_type": "code",
   "execution_count": 11,
   "metadata": {},
   "outputs": [],
   "source": [
    "telco_df = wrangle.wrangle_telco()"
   ]
  },
  {
   "cell_type": "code",
   "execution_count": 3,
   "metadata": {},
   "outputs": [
    {
     "data": {
      "text/html": [
       "<div>\n",
       "<style scoped>\n",
       "    .dataframe tbody tr th:only-of-type {\n",
       "        vertical-align: middle;\n",
       "    }\n",
       "\n",
       "    .dataframe tbody tr th {\n",
       "        vertical-align: top;\n",
       "    }\n",
       "\n",
       "    .dataframe thead th {\n",
       "        text-align: right;\n",
       "    }\n",
       "</style>\n",
       "<table border=\"1\" class=\"dataframe\">\n",
       "  <thead>\n",
       "    <tr style=\"text-align: right;\">\n",
       "      <th></th>\n",
       "      <th>customer_id</th>\n",
       "      <th>tenure_months</th>\n",
       "      <th>monthly_charges</th>\n",
       "      <th>total_charges</th>\n",
       "      <th>tenure_year</th>\n",
       "    </tr>\n",
       "  </thead>\n",
       "  <tbody>\n",
       "    <tr>\n",
       "      <th>0</th>\n",
       "      <td>0013-SMEOE</td>\n",
       "      <td>71</td>\n",
       "      <td>109.70</td>\n",
       "      <td>7904.25</td>\n",
       "      <td>6.0</td>\n",
       "    </tr>\n",
       "    <tr>\n",
       "      <th>1</th>\n",
       "      <td>0014-BMAQU</td>\n",
       "      <td>63</td>\n",
       "      <td>84.65</td>\n",
       "      <td>5377.80</td>\n",
       "      <td>5.0</td>\n",
       "    </tr>\n",
       "    <tr>\n",
       "      <th>2</th>\n",
       "      <td>0016-QLJIS</td>\n",
       "      <td>65</td>\n",
       "      <td>90.45</td>\n",
       "      <td>5957.90</td>\n",
       "      <td>5.0</td>\n",
       "    </tr>\n",
       "    <tr>\n",
       "      <th>3</th>\n",
       "      <td>0017-DINOC</td>\n",
       "      <td>54</td>\n",
       "      <td>45.20</td>\n",
       "      <td>2460.55</td>\n",
       "      <td>4.0</td>\n",
       "    </tr>\n",
       "    <tr>\n",
       "      <th>4</th>\n",
       "      <td>0017-IUDMW</td>\n",
       "      <td>72</td>\n",
       "      <td>116.80</td>\n",
       "      <td>8456.75</td>\n",
       "      <td>6.0</td>\n",
       "    </tr>\n",
       "  </tbody>\n",
       "</table>\n",
       "</div>"
      ],
      "text/plain": [
       "  customer_id  tenure_months  monthly_charges  total_charges  tenure_year\n",
       "0  0013-SMEOE             71           109.70        7904.25          6.0\n",
       "1  0014-BMAQU             63            84.65        5377.80          5.0\n",
       "2  0016-QLJIS             65            90.45        5957.90          5.0\n",
       "3  0017-DINOC             54            45.20        2460.55          4.0\n",
       "4  0017-IUDMW             72           116.80        8456.75          6.0"
      ]
     },
     "execution_count": 3,
     "metadata": {},
     "output_type": "execute_result"
    }
   ],
   "source": [
    "telco_df.head()"
   ]
  },
  {
   "cell_type": "code",
   "execution_count": 4,
   "metadata": {},
   "outputs": [
    {
     "data": {
      "text/plain": [
       "(1695, 5)"
      ]
     },
     "execution_count": 4,
     "metadata": {},
     "output_type": "execute_result"
    }
   ],
   "source": [
    "telco_df.shape"
   ]
  },
  {
   "cell_type": "code",
   "execution_count": 5,
   "metadata": {},
   "outputs": [
    {
     "name": "stdout",
     "output_type": "stream",
     "text": [
      "<class 'pandas.core.frame.DataFrame'>\n",
      "Int64Index: 1695 entries, 0 to 1694\n",
      "Data columns (total 5 columns):\n",
      " #   Column           Non-Null Count  Dtype  \n",
      "---  ------           --------------  -----  \n",
      " 0   customer_id      1695 non-null   object \n",
      " 1   tenure_months    1695 non-null   int64  \n",
      " 2   monthly_charges  1695 non-null   float64\n",
      " 3   total_charges    1695 non-null   float64\n",
      " 4   tenure_year      1695 non-null   float64\n",
      "dtypes: float64(3), int64(1), object(1)\n",
      "memory usage: 79.5+ KB\n"
     ]
    }
   ],
   "source": [
    "telco_df.info()"
   ]
  },
  {
   "cell_type": "code",
   "execution_count": 6,
   "metadata": {},
   "outputs": [],
   "source": [
    " train, validate, test  = wrangle.telco_split_continous(telco_df)"
   ]
  },
  {
   "cell_type": "code",
   "execution_count": 7,
   "metadata": {},
   "outputs": [
    {
     "data": {
      "text/plain": [
       "((949, 5), (407, 5), (339, 5))"
      ]
     },
     "execution_count": 7,
     "metadata": {},
     "output_type": "execute_result"
    }
   ],
   "source": [
    "train.shape, validate.shape, test.shape"
   ]
  },
  {
   "cell_type": "code",
   "execution_count": 8,
   "metadata": {},
   "outputs": [
    {
     "name": "stdout",
     "output_type": "stream",
     "text": [
      "<class 'pandas.core.frame.DataFrame'>\n",
      "Int64Index: 949 entries, 577 to 1424\n",
      "Data columns (total 5 columns):\n",
      " #   Column           Non-Null Count  Dtype  \n",
      "---  ------           --------------  -----  \n",
      " 0   customer_id      949 non-null    object \n",
      " 1   tenure_months    949 non-null    int64  \n",
      " 2   monthly_charges  949 non-null    float64\n",
      " 3   total_charges    949 non-null    float64\n",
      " 4   tenure_year      949 non-null    float64\n",
      "dtypes: float64(3), int64(1), object(1)\n",
      "memory usage: 44.5+ KB\n"
     ]
    }
   ],
   "source": [
    "train.info()"
   ]
  },
  {
   "cell_type": "code",
   "execution_count": null,
   "metadata": {},
   "outputs": [],
   "source": []
  },
  {
   "cell_type": "markdown",
   "metadata": {},
   "source": [
    "- 1.) Apply the scalers we talked about in this lesson to your data and visualize the results for the unscaled and scaled distribution .\n"
   ]
  },
  {
   "cell_type": "code",
   "execution_count": 9,
   "metadata": {},
   "outputs": [],
   "source": [
    "#create our scalar, want a unqiue scalar for each feature! \n",
    "scalar_MinMax =  sklearn.preprocessing.MinMaxScaler()\n",
    "scalar_Robust =  sklearn.preprocessing.RobustScaler()\n",
    "scalar_Standard =  sklearn.preprocessing.StandardScaler()"
   ]
  },
  {
   "cell_type": "code",
   "execution_count": 10,
   "metadata": {},
   "outputs": [
    {
     "data": {
      "text/plain": [
       "StandardScaler()"
      ]
     },
     "execution_count": 10,
     "metadata": {},
     "output_type": "execute_result"
    }
   ],
   "source": [
    "scalar_MinMax.fit(train[['monthly_charges']])\n",
    "scalar_Robust.fit(train[['monthly_charges']])\n",
    "scalar_Standard.fit(train[['monthly_charges']])\n",
    "scalar_MinMax.fit(train[['total_charges']])\n",
    "scalar_Robust.fit(train[['total_charges']])\n",
    "scalar_Standard.fit(train[['total_charges']])\n",
    "scalar_MinMax.fit(train[['monthly_charges']])\n",
    "scalar_Robust.fit(train[['monthly_charges']])\n",
    "scalar_Standard.fit(train[['monthly_charges']])\n",
    "scalar_MinMax.fit(train[['tenure_months']])\n",
    "scalar_Robust.fit(train[['tenure_months']])\n",
    "scalar_Standard.fit(train[['tenure_months']])\n"
   ]
  },
  {
   "cell_type": "code",
   "execution_count": null,
   "metadata": {},
   "outputs": [],
   "source": []
  },
  {
   "cell_type": "code",
   "execution_count": 11,
   "metadata": {},
   "outputs": [],
   "source": [
    "train['monthly_MinMax'] = scalar_MinMax.transform(train[['monthly_charges']])\n",
    "train['monthly_Robust'] = scalar_Robust.transform(train[['monthly_charges']])\n",
    "train['monthly_Standard'] = scalar_Standard.transform(train[['monthly_charges']])\n",
    "validate['monthly_MinMax'] = scalar_MinMax.transform(validate[['monthly_charges']])\n",
    "validate['monthly_Robust'] = scalar_Robust.transform(validate[['monthly_charges']])\n",
    "validate['monthly_Standard'] = scalar_Standard.transform(validate[['monthly_charges']])\n",
    "test['monthly_MinMax'] = scalar_Standard.transform(test[['monthly_charges']])\n",
    "test['monthly_Robust'] = scalar_Robust.transform(test[['monthly_charges']])\n",
    "test['monthly_Standard'] = scalar_Standard.transform(test[['monthly_charges']])"
   ]
  },
  {
   "cell_type": "code",
   "execution_count": 12,
   "metadata": {},
   "outputs": [],
   "source": [
    "train['total_MinMax'] = scalar_MinMax.transform(train[['total_charges']])\n",
    "train['total_Robust'] = scalar_Robust.transform(train[['total_charges']])\n",
    "train['total_Standard'] = scalar_Standard.transform(train[['total_charges']])\n",
    "validate['total_MinMax'] = scalar_MinMax.transform(validate[['total_charges']])\n",
    "validate['total_Robust'] = scalar_Robust.transform(validate[['total_charges']])\n",
    "validate['total_Standard'] = scalar_Standard.transform(validate[['total_charges']])\n",
    "test['total_MinMax'] = scalar_MinMax.transform(test[['total_charges']])\n",
    "test['total_Robust'] = scalar_Robust.transform(test[['total_charges']])\n",
    "test['total_Standard'] = scalar_Standard.transform(test[['total_charges']])"
   ]
  },
  {
   "cell_type": "code",
   "execution_count": 13,
   "metadata": {},
   "outputs": [],
   "source": [
    "\n",
    "train['tenure_MinMax'] = scalar_MinMax.transform(train[['tenure_months']])\n",
    "train['tenure_Robust'] = scalar_Robust.transform(train[['tenure_months']])\n",
    "train['tenure_Standard'] = scalar_Standard.transform(train[['tenure_months']])\n",
    "validate['tenure_MinMax'] = scalar_MinMax.transform(validate[['tenure_months']])\n",
    "validate['tenure_Robust'] = scalar_Robust.transform(validate[['tenure_months']])\n",
    "validate['tenure_Standard'] = scalar_Standard.transform(validate[['tenure_months']])\n",
    "test['tenure_MinMax'] = scalar_MinMax.transform(test[['tenure_months']])\n",
    "test['tenure_Robust'] = scalar_Robust.transform(test[['tenure_months']])\n",
    "test['tenure_Standard'] = scalar_Standard.transform(test[['tenure_months']])"
   ]
  },
  {
   "cell_type": "code",
   "execution_count": null,
   "metadata": {},
   "outputs": [],
   "source": []
  },
  {
   "cell_type": "markdown",
   "metadata": {},
   "source": [
    "- 2.) Apply the .inverse_transform method to your scaled data. Is the resulting dataset the exact same as the original data?\n"
   ]
  },
  {
   "cell_type": "code",
   "execution_count": 18,
   "metadata": {},
   "outputs": [],
   "source": [
    "#created column contains inverse of scalar\n",
    "train['monthly_charges_inv_MinMax'] = scalar_MinMax.inverse_transform(train[['monthly_MinMax']])\n",
    "validate['monthly_charges_inv_MinMax'] = scalar_MinMax.inverse_transform(validate[['monthly_MinMax']])\n",
    "test['monthly_charges_inv_MinMax'] = scalar_MinMax.inverse_transform(test[['monthly_MinMax']])\n",
    "train['total_charges_inv_MinMax'] = scalar_MinMax.inverse_transform(train[['total_MinMax']])\n",
    "validate['total_charges_inv_MinMax'] = scalar_MinMax.inverse_transform(validate[['total_MinMax']])\n",
    "test['total_charges_inv_MinMax'] = scalar_MinMax.inverse_transform(test[['total_MinMax']])\n",
    "train['tenure_charges_inv_MinMax'] = scalar_MinMax.inverse_transform(train[['tenure_MinMax']])\n",
    "validate['tenure_charges_inv_MinMax'] = scalar_MinMax.inverse_transform(validate[['tenure_MinMax']])\n",
    "test['tenure_charges_inv_MinMax'] = scalar_MinMax.inverse_transform(test[['tenure_MinMax']])"
   ]
  },
  {
   "cell_type": "code",
   "execution_count": 19,
   "metadata": {},
   "outputs": [],
   "source": [
    "train['monthly_charges_inv_Robust'] = scalar_Robust.inverse_transform(train[['monthly_Robust']])\n",
    "validate['monthly_charges_inv_Robust'] = scalar_Robust.inverse_transform(validate[['monthly_Robust']])\n",
    "test['monthly_charges_inv_Robust'] = scalar_Robust.inverse_transform(test[['monthly_Robust']])\n",
    "train['total_charges_inv_Robust'] = scalar_Robust.inverse_transform(train[['total_Robust']])\n",
    "validate['total_charges_inv_Robust'] = scalar_Robust.inverse_transform(validate[['total_Robust']])\n",
    "test['total_charges_inv_Robust'] = scalar_Robust.inverse_transform(test[['total_Robust']])\n",
    "train['tenure_charges_inv_Robust'] = scalar_Robust.inverse_transform(train[['tenure_Robust']])\n",
    "validate['tenure_charges_inv_Robust'] = scalar_Robust.inverse_transform(validate[['tenure_Robust']])\n",
    "test['tenure_charges_inv_Robust'] = scalar_Robust.inverse_transform(test[['tenure_Robust']])"
   ]
  },
  {
   "cell_type": "code",
   "execution_count": 20,
   "metadata": {},
   "outputs": [],
   "source": [
    "train['monthly_charges_inv_Standard'] = scalar_Standard.inverse_transform(train[['monthly_Standard']])\n",
    "validate['monthly_charges_inv_Standard'] = scalar_Standard.inverse_transform(validate[['monthly_Standard']])\n",
    "test['monthly_charges_inv_Standard'] = scalar_Standard.inverse_transform(test[['monthly_Standard']])\n",
    "train['total_charges_inv_Standard'] = scalar_Standard.inverse_transform(train[['total_Standard']])\n",
    "validate['total_charges_inv_Standard'] = scalar_Standard.inverse_transform(validate[['total_Standard']])\n",
    "test['total_charges_inv_Standard'] = scalar_Standard.inverse_transform(test[['total_Standard']])\n",
    "train['tenure_charges_inv_Standard'] = scalar_Standard.inverse_transform(train[['tenure_Standard']])\n",
    "validate['tenure_charges_inv_Standard'] = scalar_Standard.inverse_transform(validate[['tenure_Standard']])\n",
    "test['tenure_charges_inv_Standard'] = scalar_Standard.inverse_transform(test[['tenure_Standard']])"
   ]
  },
  {
   "cell_type": "code",
   "execution_count": 21,
   "metadata": {
    "jupyter": {
     "source_hidden": true
    }
   },
   "outputs": [
    {
     "data": {
      "text/plain": [
       "Text(0.5, 1.0, 'Inverse test')"
      ]
     },
     "execution_count": 21,
     "metadata": {},
     "output_type": "execute_result"
    },
    {
     "data": {
      "text/plain": [
       "<Figure size 432x288 with 0 Axes>"
      ]
     },
     "metadata": {},
     "output_type": "display_data"
    },
    {
     "data": {
      "image/png": "[encoded data removed]",
      "text/plain": [
       "<Figure size 1008x720 with 9 Axes>"
      ]
     },
     "metadata": {
      "needs_background": "light"
     },
     "output_type": "display_data"
    }
   ],
   "source": [
    "plt.suptitle('MinMax')\n",
    "plt.figure(figsize=(14, 10))\n",
    "plt.subplot(331)\n",
    "plt.hist(train['monthly_charges'], bins=25, ec='black')\n",
    "plt.title('Train Original')\n",
    "plt.subplot(332)\n",
    "plt.hist(train['monthly_MinMax'], bins=25, ec='black')\n",
    "plt.title(' Train Scaled')\n",
    "plt.subplot(333)\n",
    "plt.hist(train['monthly_charges_inv_MinMax'], bins=25, ec='black')\n",
    "plt.title('Train Inverse')\n",
    "plt.subplot(334)\n",
    "plt.hist(validate['total_charges'], bins=25, ec='black')\n",
    "plt.title('Original validate')\n",
    "plt.subplot(335)\n",
    "plt.hist(validate['total_MinMax'], bins=25, ec='black')\n",
    "plt.title('Scaled validate')\n",
    "plt.subplot(336)\n",
    "plt.hist(validate['total_charges_inv_MinMax'], bins=25, ec='black')\n",
    "plt.title('Inverse validate')\n",
    "plt.subplot(337)\n",
    "plt.hist(test['total_charges'], bins=25, ec='black')\n",
    "plt.title('Original test')\n",
    "plt.subplot(338)\n",
    "plt.hist(test['total_MinMax'], bins=25, ec='black')\n",
    "plt.title('Scaled test')\n",
    "plt.subplot(339)\n",
    "plt.hist(test['total_charges_inv_MinMax'], bins=25, ec='black')\n",
    "plt.title('Inverse test')"
   ]
  },
  {
   "cell_type": "code",
   "execution_count": 22,
   "metadata": {
    "jupyter": {
     "source_hidden": true
    }
   },
   "outputs": [
    {
     "data": {
      "text/plain": [
       "Text(0.5, 1.0, 'Inverse test')"
      ]
     },
     "execution_count": 22,
     "metadata": {},
     "output_type": "execute_result"
    },
    {
     "data": {
      "image/png": "[encoded data removed]",
      "text/plain": [
       "<Figure size 1008x720 with 9 Axes>"
      ]
     },
     "metadata": {
      "needs_background": "light"
     },
     "output_type": "display_data"
    }
   ],
   "source": [
    "plt.figure(figsize=(14, 10))\n",
    "plt.subplot(331)\n",
    "plt.hist(train['monthly_charges'], bins=25, ec='black')\n",
    "plt.title('Train Original')\n",
    "plt.subplot(332)\n",
    "plt.hist(train['monthly_Robust'], bins=25, ec='black')\n",
    "plt.title(' Train Scaled')\n",
    "plt.subplot(333)\n",
    "plt.hist(train['monthly_charges_inv_Robust'], bins=25, ec='black')\n",
    "plt.title('Train Inverse')\n",
    "plt.subplot(334)\n",
    "plt.hist(validate['total_charges'], bins=25, ec='black')\n",
    "plt.title('Original validate')\n",
    "plt.subplot(335)\n",
    "plt.hist(validate['total_Robust'], bins=25, ec='black')\n",
    "plt.title('Scaled validate')\n",
    "plt.subplot(336)\n",
    "plt.hist(validate['total_charges_inv_Robust'], bins=25, ec='black')\n",
    "plt.title('Inverse validate')\n",
    "plt.subplot(337)\n",
    "plt.hist(test['total_charges'], bins=25, ec='black')\n",
    "plt.title('Original test')\n",
    "plt.subplot(338)\n",
    "plt.hist(test['total_Robust'], bins=25, ec='black')\n",
    "plt.title('Scaled test')\n",
    "plt.subplot(339)\n",
    "plt.hist(test['total_charges_inv_Robust'], bins=25, ec='black')\n",
    "plt.title('Inverse test')"
   ]
  },
  {
   "cell_type": "code",
   "execution_count": 17,
   "metadata": {
    "jupyter": {
     "source_hidden": true
    }
   },
   "outputs": [
    {
     "data": {
      "text/plain": [
       "Text(0.5, 1.0, 'Inverse test')"
      ]
     },
     "execution_count": 17,
     "metadata": {},
     "output_type": "execute_result"
    },
    {
     "data": {
      "image/png": "[encoded data removed]",
      "text/plain": [
       "<Figure size 1008x720 with 9 Axes>"
      ]
     },
     "metadata": {
      "needs_background": "light"
     },
     "output_type": "display_data"
    }
   ],
   "source": [
    "plt.figure(figsize=(14, 10))\n",
    "plt.subplot(331)\n",
    "plt.hist(train['monthly_charges'], bins=25, ec='black')\n",
    "plt.title('Train Original')\n",
    "plt.subplot(332)\n",
    "plt.hist(train['monthly_Standard'], bins=25, ec='black')\n",
    "plt.title(' Train Scaled')\n",
    "plt.subplot(333)\n",
    "plt.hist(train['monthly_charges_inv_Standard'], bins=25, ec='black')\n",
    "plt.title('Train Inverse')\n",
    "plt.subplot(334)\n",
    "plt.hist(validate['total_charges'], bins=25, ec='black')\n",
    "plt.title('Original validate')\n",
    "plt.subplot(335)\n",
    "plt.hist(validate['total_Standard'], bins=25, ec='black')\n",
    "plt.title('Scaled validate')\n",
    "plt.subplot(336)\n",
    "plt.hist(validate['total_charges_inv_Standard'], bins=25, ec='black')\n",
    "plt.title('Inverse validate')\n",
    "plt.subplot(337)\n",
    "plt.hist(test['total_charges'], bins=25, ec='black')\n",
    "plt.title('Original test')\n",
    "plt.subplot(338)\n",
    "plt.hist(test['total_Standard'], bins=25, ec='black')\n",
    "plt.title('Scaled test')\n",
    "plt.subplot(339)\n",
    "plt.hist(test['total_charges_inv_Standard'], bins=25, ec='black')\n",
    "plt.title('Inverse test')"
   ]
  },
  {
   "cell_type": "markdown",
   "metadata": {},
   "source": [
    "- 3.) Read the documentation for sklearn's QuantileTransformer. Use normal for the output_distribution and apply this scaler to your data. Visualize the result of your data scaling.\n"
   ]
  },
  {
   "cell_type": "code",
   "execution_count": 12,
   "metadata": {},
   "outputs": [],
   "source": [
    " train, validate, test  = wrangle.telco_split_continous(telco_df)"
   ]
  },
  {
   "cell_type": "code",
   "execution_count": 13,
   "metadata": {},
   "outputs": [],
   "source": [
    "scalar_quant = sklearn.preprocessing.QuantileTransformer(output_distribution = 'normal')"
   ]
  },
  {
   "cell_type": "code",
   "execution_count": 14,
   "metadata": {},
   "outputs": [
    {
     "data": {
      "text/plain": [
       "QuantileTransformer(output_distribution='normal')"
      ]
     },
     "execution_count": 14,
     "metadata": {},
     "output_type": "execute_result"
    }
   ],
   "source": [
    "scalar_quant.fit(train[['monthly_charges']])"
   ]
  },
  {
   "cell_type": "code",
   "execution_count": 15,
   "metadata": {},
   "outputs": [],
   "source": [
    "train['monthly_quant_T'] = scalar_quant.transform(train[['monthly_charges']])"
   ]
  },
  {
   "cell_type": "code",
   "execution_count": 19,
   "metadata": {},
   "outputs": [],
   "source": [
    "train['monthly_charges_inv_quant'] = scalar_quant.inverse_transform(train[['monthly_quant_T']])"
   ]
  },
  {
   "cell_type": "code",
   "execution_count": 20,
   "metadata": {},
   "outputs": [
    {
     "data": {
      "text/plain": [
       "Text(0.5, 1.0, 'Train Inverse')"
      ]
     },
     "execution_count": 20,
     "metadata": {},
     "output_type": "execute_result"
    },
    {
     "data": {
      "text/plain": [
       "<Figure size 432x288 with 0 Axes>"
      ]
     },
     "metadata": {},
     "output_type": "display_data"
    },
    {
     "data": {
      "image/png": "[encoded data removed]",
      "text/plain": [
       "<Figure size 1008x720 with 3 Axes>"
      ]
     },
     "metadata": {
      "needs_background": "light"
     },
     "output_type": "display_data"
    }
   ],
   "source": [
    "plt.suptitle('MinMax')\n",
    "plt.figure(figsize=(14, 10))\n",
    "plt.subplot(331)\n",
    "plt.hist(train['monthly_charges'], bins=25, ec='black')\n",
    "plt.title('Train Original')\n",
    "plt.subplot(332)\n",
    "plt.hist(train['monthly_quant_T'], bins=25, ec='black')\n",
    "plt.title(' Train Scaled')\n",
    "plt.subplot(333)\n",
    "plt.hist(train['monthly_charges_inv_quant'], bins=25, ec='black')\n",
    "plt.title('Train Inverse')"
   ]
  },
  {
   "cell_type": "markdown",
   "metadata": {},
   "source": [
    "- 4.) Use the QuantileTransformer, but omit the output_distribution argument. Visualize your results. What do you notice?\n"
   ]
  },
  {
   "cell_type": "code",
   "execution_count": 28,
   "metadata": {},
   "outputs": [],
   "source": [
    " train, validate, test  = wrangle.telco_split_continous(telco_df)"
   ]
  },
  {
   "cell_type": "code",
   "execution_count": 29,
   "metadata": {},
   "outputs": [],
   "source": [
    "scalar_quant = sklearn.preprocessing.QuantileTransformer()"
   ]
  },
  {
   "cell_type": "code",
   "execution_count": 30,
   "metadata": {},
   "outputs": [],
   "source": [
    "scalar_quant.fit(train[['monthly_charges']])\n",
    "train['monthly_quant_T'] = scalar_quant.transform(train[['monthly_charges']])\n",
    "train['monthly_charges_inv_quant'] = scalar_quant.inverse_transform(train[['monthly_quant_T']])"
   ]
  },
  {
   "cell_type": "code",
   "execution_count": 31,
   "metadata": {},
   "outputs": [
    {
     "data": {
      "text/plain": [
       "Text(0.5, 1.0, 'Train Inverse')"
      ]
     },
     "execution_count": 31,
     "metadata": {},
     "output_type": "execute_result"
    },
    {
     "data": {
      "text/plain": [
       "<Figure size 432x288 with 0 Axes>"
      ]
     },
     "metadata": {},
     "output_type": "display_data"
    },
    {
     "data": {
      "image/png": "[encoded data removed]",
      "text/plain": [
       "<Figure size 1008x720 with 3 Axes>"
      ]
     },
     "metadata": {
      "needs_background": "light"
     },
     "output_type": "display_data"
    }
   ],
   "source": [
    "plt.suptitle('MinMax')\n",
    "plt.figure(figsize=(14, 10))\n",
    "plt.subplot(331)\n",
    "plt.hist(train['monthly_charges'], bins=25, ec='black')\n",
    "plt.title('Train Original')\n",
    "plt.subplot(332)\n",
    "plt.hist(train['monthly_quant_T'], bins=25, ec='black')\n",
    "plt.title(' Train Scaled')\n",
    "plt.subplot(333)\n",
    "plt.hist(train['monthly_charges_inv_quant'], bins=25, ec='black')\n",
    "plt.title('Train Inverse')"
   ]
  },
  {
   "cell_type": "markdown",
   "metadata": {},
   "source": [
    "- 5.) Based on the work you've done, choose a scaling method for your dataset. Write a function within your prepare.py that accepts as input the train, validate, and test data splits, and returns the scaled versions of each. Be sure to only learn the parameters for scaling from your training data!"
   ]
  },
  {
   "cell_type": "code",
   "execution_count": null,
   "metadata": {},
   "outputs": [],
   "source": []
  }
 ],
 "metadata": {
  "kernelspec": {
   "display_name": "Python 3",
   "language": "python",
   "name": "python3"
  },
  "language_info": {
   "codemirror_mode": {
    "name": "ipython",
    "version": 3
   },
   "file_extension": ".py",
   "mimetype": "text/x-python",
   "name": "python",
   "nbconvert_exporter": "python",
   "pygments_lexer": "ipython3",
   "version": "3.8.5"
  }
 },
 "nbformat": 4,
 "nbformat_minor": 4
}
