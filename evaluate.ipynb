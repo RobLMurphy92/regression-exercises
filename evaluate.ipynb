{
 "cells": [
  {
   "cell_type": "code",
   "execution_count": 1,
   "metadata": {},
   "outputs": [],
   "source": [
    "import pandas as pd\n",
    "import numpy as np\n",
    "from pydataset import data\n",
    "from sklearn.linear_model import LinearRegression\n",
    "import math\n",
    "import stat\n",
    "import seaborn as sns\n",
    "\n",
    "#train validate, split\n",
    "from sklearn.model_selection import train_test_split\n",
    "from sklearn.impute import SimpleImputer\n",
    "from sklearn.preprocessing import LabelEncoder, OneHotEncoder, MinMaxScaler\n",
    "\n",
    "# metrics and confusion\n",
    "from sklearn.metrics import classification_report\n",
    "from sklearn.metrics import confusion_matrix\n",
    "\n",
    "#model classifiers\n",
    "from sklearn.neighbors import KNeighborsClassifier\n",
    "from sklearn.tree import DecisionTreeClassifier\n",
    "from sklearn.ensemble import RandomForestClassifier\n",
    "from sklearn.linear_model import LogisticRegression\n",
    "\n",
    "from scipy import stats\n",
    "from sklearn.metrics import mean_squared_error, r2_score, explained_variance_score\n",
    "\n",
    "from sklearn.linear_model import LinearRegression\n",
    "from sklearn.feature_selection import f_regression \n",
    "from math import sqrt\n",
    "import matplotlib.pyplot as plt\n",
    "import warnings\n",
    "warnings.filterwarnings('ignore')\n",
    "\n",
    "from scipy import stats\n",
    "from sklearn.metrics import mean_squared_error, r2_score, explained_variance_score\n",
    "\n",
    "from sklearn.linear_model import LinearRegression\n",
    "from sklearn.feature_selection import f_regression \n",
    "from math import sqrt\n",
    "\n",
    "from sklearn.metrics import explained_variance_score\n",
    "\n"
   ]
  },
  {
   "cell_type": "code",
   "execution_count": 2,
   "metadata": {},
   "outputs": [
    {
     "data": {
      "text/html": [
       "<div>\n",
       "<style scoped>\n",
       "    .dataframe tbody tr th:only-of-type {\n",
       "        vertical-align: middle;\n",
       "    }\n",
       "\n",
       "    .dataframe tbody tr th {\n",
       "        vertical-align: top;\n",
       "    }\n",
       "\n",
       "    .dataframe thead th {\n",
       "        text-align: right;\n",
       "    }\n",
       "</style>\n",
       "<table border=\"1\" class=\"dataframe\">\n",
       "  <thead>\n",
       "    <tr style=\"text-align: right;\">\n",
       "      <th></th>\n",
       "      <th>total_bill</th>\n",
       "      <th>tip</th>\n",
       "      <th>sex</th>\n",
       "      <th>smoker</th>\n",
       "      <th>day</th>\n",
       "      <th>time</th>\n",
       "      <th>size</th>\n",
       "    </tr>\n",
       "  </thead>\n",
       "  <tbody>\n",
       "    <tr>\n",
       "      <th>1</th>\n",
       "      <td>16.99</td>\n",
       "      <td>1.01</td>\n",
       "      <td>Female</td>\n",
       "      <td>No</td>\n",
       "      <td>Sun</td>\n",
       "      <td>Dinner</td>\n",
       "      <td>2</td>\n",
       "    </tr>\n",
       "    <tr>\n",
       "      <th>2</th>\n",
       "      <td>10.34</td>\n",
       "      <td>1.66</td>\n",
       "      <td>Male</td>\n",
       "      <td>No</td>\n",
       "      <td>Sun</td>\n",
       "      <td>Dinner</td>\n",
       "      <td>3</td>\n",
       "    </tr>\n",
       "    <tr>\n",
       "      <th>3</th>\n",
       "      <td>21.01</td>\n",
       "      <td>3.50</td>\n",
       "      <td>Male</td>\n",
       "      <td>No</td>\n",
       "      <td>Sun</td>\n",
       "      <td>Dinner</td>\n",
       "      <td>3</td>\n",
       "    </tr>\n",
       "    <tr>\n",
       "      <th>4</th>\n",
       "      <td>23.68</td>\n",
       "      <td>3.31</td>\n",
       "      <td>Male</td>\n",
       "      <td>No</td>\n",
       "      <td>Sun</td>\n",
       "      <td>Dinner</td>\n",
       "      <td>2</td>\n",
       "    </tr>\n",
       "    <tr>\n",
       "      <th>5</th>\n",
       "      <td>24.59</td>\n",
       "      <td>3.61</td>\n",
       "      <td>Female</td>\n",
       "      <td>No</td>\n",
       "      <td>Sun</td>\n",
       "      <td>Dinner</td>\n",
       "      <td>4</td>\n",
       "    </tr>\n",
       "  </tbody>\n",
       "</table>\n",
       "</div>"
      ],
      "text/plain": [
       "   total_bill   tip     sex smoker  day    time  size\n",
       "1       16.99  1.01  Female     No  Sun  Dinner     2\n",
       "2       10.34  1.66    Male     No  Sun  Dinner     3\n",
       "3       21.01  3.50    Male     No  Sun  Dinner     3\n",
       "4       23.68  3.31    Male     No  Sun  Dinner     2\n",
       "5       24.59  3.61  Female     No  Sun  Dinner     4"
      ]
     },
     "execution_count": 2,
     "metadata": {},
     "output_type": "execute_result"
    }
   ],
   "source": [
    "tips_df = data('tips')\n",
    "tips_df.head()"
   ]
  },
  {
   "cell_type": "code",
   "execution_count": 3,
   "metadata": {},
   "outputs": [
    {
     "name": "stdout",
     "output_type": "stream",
     "text": [
      "<class 'pandas.core.frame.DataFrame'>\n",
      "Int64Index: 244 entries, 1 to 244\n",
      "Data columns (total 7 columns):\n",
      " #   Column      Non-Null Count  Dtype  \n",
      "---  ------      --------------  -----  \n",
      " 0   total_bill  244 non-null    float64\n",
      " 1   tip         244 non-null    float64\n",
      " 2   sex         244 non-null    object \n",
      " 3   smoker      244 non-null    object \n",
      " 4   day         244 non-null    object \n",
      " 5   time        244 non-null    object \n",
      " 6   size        244 non-null    int64  \n",
      "dtypes: float64(2), int64(1), object(4)\n",
      "memory usage: 15.2+ KB\n"
     ]
    }
   ],
   "source": [
    "tips_df.info()"
   ]
  },
  {
   "cell_type": "markdown",
   "metadata": {},
   "source": [
    "### 2.) Fit a linear regression model (ordinary least squares) and compute yhat, predictions of tip using total_bill"
   ]
  },
  {
   "cell_type": "code",
   "execution_count": 4,
   "metadata": {},
   "outputs": [],
   "source": [
    "#make baseline prediction \n",
    "tips_df['yhat_baseline'] = tips_df['tip'].mean()\n",
    "\n",
    "# generate parameters, i.e. create model\n",
    "reg_model = LinearRegression().fit(tips_df[['total_bill']], tips_df['tip'])\n",
    "\n",
    "# compute predictions and add to original dataframe\n",
    "tips_df['yhat'] = reg_model.predict(tips_df[['total_bill']])"
   ]
  },
  {
   "cell_type": "markdown",
   "metadata": {},
   "source": [
    "### 3.) Plot the residuals for the linear regression model that you made."
   ]
  },
  {
   "cell_type": "code",
   "execution_count": 5,
   "metadata": {},
   "outputs": [],
   "source": [
    "#residual is y prediciton - y original (target)\n",
    "tips_df['residual'] = tips_df['yhat'] - tips_df['tip']\n",
    "#residual baseline is baseline_prediction - baseline actual.\n",
    "tips_df['residual_baseline']= tips_df['tip'] - tips_df['yhat_baseline'] "
   ]
  },
  {
   "cell_type": "code",
   "execution_count": 6,
   "metadata": {},
   "outputs": [
    {
     "data": {
      "text/html": [
       "<div>\n",
       "<style scoped>\n",
       "    .dataframe tbody tr th:only-of-type {\n",
       "        vertical-align: middle;\n",
       "    }\n",
       "\n",
       "    .dataframe tbody tr th {\n",
       "        vertical-align: top;\n",
       "    }\n",
       "\n",
       "    .dataframe thead th {\n",
       "        text-align: right;\n",
       "    }\n",
       "</style>\n",
       "<table border=\"1\" class=\"dataframe\">\n",
       "  <thead>\n",
       "    <tr style=\"text-align: right;\">\n",
       "      <th></th>\n",
       "      <th>total_bill</th>\n",
       "      <th>tip</th>\n",
       "      <th>sex</th>\n",
       "      <th>smoker</th>\n",
       "      <th>day</th>\n",
       "      <th>time</th>\n",
       "      <th>size</th>\n",
       "      <th>yhat_baseline</th>\n",
       "      <th>yhat</th>\n",
       "      <th>residual</th>\n",
       "      <th>residual_baseline</th>\n",
       "    </tr>\n",
       "  </thead>\n",
       "  <tbody>\n",
       "    <tr>\n",
       "      <th>1</th>\n",
       "      <td>16.99</td>\n",
       "      <td>1.01</td>\n",
       "      <td>Female</td>\n",
       "      <td>No</td>\n",
       "      <td>Sun</td>\n",
       "      <td>Dinner</td>\n",
       "      <td>2</td>\n",
       "      <td>2.998279</td>\n",
       "      <td>2.704636</td>\n",
       "      <td>1.694636</td>\n",
       "      <td>-1.988279</td>\n",
       "    </tr>\n",
       "    <tr>\n",
       "      <th>2</th>\n",
       "      <td>10.34</td>\n",
       "      <td>1.66</td>\n",
       "      <td>Male</td>\n",
       "      <td>No</td>\n",
       "      <td>Sun</td>\n",
       "      <td>Dinner</td>\n",
       "      <td>3</td>\n",
       "      <td>2.998279</td>\n",
       "      <td>2.006223</td>\n",
       "      <td>0.346223</td>\n",
       "      <td>-1.338279</td>\n",
       "    </tr>\n",
       "    <tr>\n",
       "      <th>3</th>\n",
       "      <td>21.01</td>\n",
       "      <td>3.50</td>\n",
       "      <td>Male</td>\n",
       "      <td>No</td>\n",
       "      <td>Sun</td>\n",
       "      <td>Dinner</td>\n",
       "      <td>3</td>\n",
       "      <td>2.998279</td>\n",
       "      <td>3.126835</td>\n",
       "      <td>-0.373165</td>\n",
       "      <td>0.501721</td>\n",
       "    </tr>\n",
       "    <tr>\n",
       "      <th>4</th>\n",
       "      <td>23.68</td>\n",
       "      <td>3.31</td>\n",
       "      <td>Male</td>\n",
       "      <td>No</td>\n",
       "      <td>Sun</td>\n",
       "      <td>Dinner</td>\n",
       "      <td>2</td>\n",
       "      <td>2.998279</td>\n",
       "      <td>3.407250</td>\n",
       "      <td>0.097250</td>\n",
       "      <td>0.311721</td>\n",
       "    </tr>\n",
       "    <tr>\n",
       "      <th>5</th>\n",
       "      <td>24.59</td>\n",
       "      <td>3.61</td>\n",
       "      <td>Female</td>\n",
       "      <td>No</td>\n",
       "      <td>Sun</td>\n",
       "      <td>Dinner</td>\n",
       "      <td>4</td>\n",
       "      <td>2.998279</td>\n",
       "      <td>3.502822</td>\n",
       "      <td>-0.107178</td>\n",
       "      <td>0.611721</td>\n",
       "    </tr>\n",
       "  </tbody>\n",
       "</table>\n",
       "</div>"
      ],
      "text/plain": [
       "   total_bill   tip     sex smoker  day    time  size  yhat_baseline  \\\n",
       "1       16.99  1.01  Female     No  Sun  Dinner     2       2.998279   \n",
       "2       10.34  1.66    Male     No  Sun  Dinner     3       2.998279   \n",
       "3       21.01  3.50    Male     No  Sun  Dinner     3       2.998279   \n",
       "4       23.68  3.31    Male     No  Sun  Dinner     2       2.998279   \n",
       "5       24.59  3.61  Female     No  Sun  Dinner     4       2.998279   \n",
       "\n",
       "       yhat  residual  residual_baseline  \n",
       "1  2.704636  1.694636          -1.988279  \n",
       "2  2.006223  0.346223          -1.338279  \n",
       "3  3.126835 -0.373165           0.501721  \n",
       "4  3.407250  0.097250           0.311721  \n",
       "5  3.502822 -0.107178           0.611721  "
      ]
     },
     "execution_count": 6,
     "metadata": {},
     "output_type": "execute_result"
    }
   ],
   "source": [
    "tips_df.head()"
   ]
  },
  {
   "cell_type": "code",
   "execution_count": 7,
   "metadata": {},
   "outputs": [
    {
     "data": {
      "text/plain": [
       "<AxesSubplot:ylabel='Frequency'>"
      ]
     },
     "execution_count": 7,
     "metadata": {},
     "output_type": "execute_result"
    },
    {
     "data": {
      "image/png": "[encoded data removed]",
      "text/plain": [
       "<Figure size 432x288 with 1 Axes>"
      ]
     },
     "metadata": {
      "needs_background": "light"
     },
     "output_type": "display_data"
    }
   ],
   "source": [
    "tips_df.residual_baseline.plot.hist()"
   ]
  },
  {
   "cell_type": "code",
   "execution_count": 8,
   "metadata": {},
   "outputs": [
    {
     "data": {
      "text/plain": [
       "<AxesSubplot:ylabel='Frequency'>"
      ]
     },
     "execution_count": 8,
     "metadata": {},
     "output_type": "execute_result"
    },
    {
     "data": {
      "image/png": "[encoded data removed]",
      "text/plain": [
       "<Figure size 432x288 with 1 Axes>"
      ]
     },
     "metadata": {
      "needs_background": "light"
     },
     "output_type": "display_data"
    }
   ],
   "source": [
    "tips_df.residual.plot.hist()"
   ]
  },
  {
   "cell_type": "code",
   "execution_count": 9,
   "metadata": {},
   "outputs": [
    {
     "data": {
      "text/plain": [
       "<matplotlib.collections.LineCollection at 0x7f806a92cca0>"
      ]
     },
     "execution_count": 9,
     "metadata": {},
     "output_type": "execute_result"
    },
    {
     "data": {
      "image/png": "[encoded data removed]",
      "text/plain": [
       "<Figure size 936x504 with 1 Axes>"
      ]
     },
     "metadata": {
      "needs_background": "light"
     },
     "output_type": "display_data"
    }
   ],
   "source": [
    "fig, ax = plt.subplots(figsize=(13, 7))\n",
    "sns.scatterplot(data = tips_df, x='tip', y= 'residual')\n",
    "ax.hlines(0, *ax.get_xlim(), ls=':', color='red')"
   ]
  },
  {
   "cell_type": "code",
   "execution_count": 10,
   "metadata": {},
   "outputs": [
    {
     "data": {
      "text/plain": [
       "<matplotlib.collections.LineCollection at 0x7f806adced90>"
      ]
     },
     "execution_count": 10,
     "metadata": {},
     "output_type": "execute_result"
    },
    {
     "data": {
      "image/png": "[encoded data removed]",
      "text/plain": [
       "<Figure size 936x504 with 1 Axes>"
      ]
     },
     "metadata": {
      "needs_background": "light"
     },
     "output_type": "display_data"
    }
   ],
   "source": [
    "fig, ax = plt.subplots(figsize=(13, 7))\n",
    "sns.scatterplot(data = tips_df, x='tip', y= 'residual_baseline')\n",
    "ax.hlines(0, *ax.get_xlim(), ls=':', color='red')"
   ]
  },
  {
   "cell_type": "markdown",
   "metadata": {},
   "source": [
    "### 4.) Calculate the sum of squared errors, explained sum of squares, total sum of squares, mean squared error, and root mean squared error for your model.\n",
    "#### number 4 and 5 combined on number 5"
   ]
  },
  {
   "cell_type": "markdown",
   "metadata": {},
   "source": [
    "### 5.) Calculate the sum of squared errors, mean squared error, and root mean squared error for the baseline model (i.e. a model that always predicts the average tip amount)."
   ]
  },
  {
   "cell_type": "code",
   "execution_count": 11,
   "metadata": {},
   "outputs": [],
   "source": [
    "# calculating SSE, TSE, MSE, RMSE, ESE"
   ]
  },
  {
   "cell_type": "code",
   "execution_count": 12,
   "metadata": {},
   "outputs": [],
   "source": [
    "# SSE\n",
    "# square each residual value\n",
    "tips_df['residual^2'] = tips_df.residual ** 2\n",
    "\n",
    "tips_df['residual_baseline^2'] = tips_df.residual_baseline ** 2"
   ]
  },
  {
   "cell_type": "code",
   "execution_count": 13,
   "metadata": {},
   "outputs": [
    {
     "name": "stdout",
     "output_type": "stream",
     "text": [
      "SSE =  252.78874385077597\n",
      "SSE - baseline =  465.21247704918085\n"
     ]
    }
   ],
   "source": [
    "# SSE\n",
    "SSE = sum(tips_df['residual^2'])\n",
    "SSE_baseline = sum(tips_df['residual_baseline^2'])\n",
    "\n",
    "print(\"SSE = \", SSE)\n",
    "print(\"SSE - baseline = \", SSE_baseline)"
   ]
  },
  {
   "cell_type": "code",
   "execution_count": 14,
   "metadata": {},
   "outputs": [
    {
     "name": "stdout",
     "output_type": "stream",
     "text": [
      "MSE =  1.0360194420113769\n",
      "MSE baseline =  1.9066085124966428\n"
     ]
    }
   ],
   "source": [
    "#MSE\n",
    "MSE = SSE/len(tips_df)\n",
    "MSE_baseline = SSE_baseline/len(tips_df)\n",
    "\n",
    "print(\"MSE = \", MSE)\n",
    "print(\"MSE baseline = \", MSE_baseline)"
   ]
  },
  {
   "cell_type": "code",
   "execution_count": 15,
   "metadata": {},
   "outputs": [
    {
     "name": "stdout",
     "output_type": "stream",
     "text": [
      "RMSE =  1.0178504025697377\n",
      "RMSE baseline =  1.3807999538298958\n"
     ]
    }
   ],
   "source": [
    "#RMSE\n",
    "from math import sqrt\n",
    "RMSE = sqrt(MSE)\n",
    "RMSE_baseline = sqrt(MSE_baseline)\n",
    "\n",
    "print(\"RMSE = \", RMSE)\n",
    "print(\"RMSE baseline = \", RMSE_baseline)"
   ]
  },
  {
   "cell_type": "code",
   "execution_count": 16,
   "metadata": {},
   "outputs": [
    {
     "name": "stdout",
     "output_type": "stream",
     "text": [
      "SSE manual == SSE sklearn:  False\n",
      "SSE manual - baseline == SSE sklearn - baseline:  False\n"
     ]
    }
   ],
   "source": [
    "from sklearn.metrics import mean_squared_error\n",
    "\n",
    "SSE2 = mean_squared_error(tips_df.tip, tips_df.yhat)*len(tips_df)\n",
    "SSE2_baseline = mean_squared_error(tips_df.tip, tips_df.yhat_baseline)*len(tips_df)\n",
    "\n",
    "print(\"SSE manual == SSE sklearn: \", SSE == SSE2) \n",
    "print(\"SSE manual - baseline == SSE sklearn - baseline: \", SSE_baseline == SSE2)"
   ]
  },
  {
   "cell_type": "code",
   "execution_count": 17,
   "metadata": {},
   "outputs": [
    {
     "name": "stdout",
     "output_type": "stream",
     "text": [
      "MSE manual == MSE sklearn:  False\n",
      "MSE manual - baseline == MSE sklearn - baseline:  False\n"
     ]
    }
   ],
   "source": [
    "MSE2 = mean_squared_error(tips_df.tip, tips_df.yhat)\n",
    "\n",
    "MSE2_baseline = mean_squared_error(tips_df.tip, tips_df.yhat_baseline)\n",
    "\n",
    "\n",
    "print(\"MSE manual == MSE sklearn: \", MSE == MSE2) \n",
    "print(\"MSE manual - baseline == MSE sklearn - baseline: \", MSE_baseline == MSE2_baseline) "
   ]
  },
  {
   "cell_type": "code",
   "execution_count": 18,
   "metadata": {},
   "outputs": [
    {
     "name": "stdout",
     "output_type": "stream",
     "text": [
      "RMSE manual == RMSE skearn:  True\n",
      "RMSE manual - baseline == RMSE skearn - baseline:  False\n"
     ]
    }
   ],
   "source": [
    "RMSE2 = sqrt(mean_squared_error(tips_df.tip, tips_df.yhat))\n",
    "RMSE2_baseline = sqrt(mean_squared_error(tips_df.tip, tips_df.yhat_baseline))\n",
    "\n",
    "print(\"RMSE manual == RMSE skearn: \", RMSE == RMSE2) \n",
    "print(\"RMSE manual - baseline == RMSE skearn - baseline: \", RMSE_baseline == RMSE2_baseline) "
   ]
  },
  {
   "cell_type": "markdown",
   "metadata": {},
   "source": [
    "### 6.) Write python code that compares the sum of squared errors for your model against the sum of squared errors for the baseline model and outputs whether or not your model performs better than the baseline model."
   ]
  },
  {
   "cell_type": "code",
   "execution_count": 15,
   "metadata": {},
   "outputs": [
    {
     "name": "stdout",
     "output_type": "stream",
     "text": [
      "---------Model---------------\n",
      "  metric  model_error\n",
      "0    SSE   252.788744\n",
      "1    MSE     1.036019\n",
      "2   RMSE     1.017850\n",
      "3    ESS   212.423733\n",
      "4    TSS   465.212477\n",
      "5     R2     0.456617\n",
      "\n",
      "-----------------------------\n",
      "Percent of variance in y explained by x =  45.7 %\n",
      "\n"
     ]
    }
   ],
   "source": []
  },
  {
   "cell_type": "markdown",
   "metadata": {},
   "source": [
    "### 7.) What is the amount of variance explained in your model?"
   ]
  },
  {
   "cell_type": "markdown",
   "metadata": {},
   "source": [
    "##### the amount of variance is 45.7 %"
   ]
  },
  {
   "cell_type": "markdown",
   "metadata": {},
   "source": [
    "### 8.) Is your model better than the baseline model?\n",
    "rmse value indicates model is better."
   ]
  },
  {
   "cell_type": "code",
   "execution_count": null,
   "metadata": {},
   "outputs": [],
   "source": [
    "#rmse: how far off the typical prediction is; same units as the target; smaller is better\n",
    "#R2: variance in y explained by X; closer to 1 is better"
   ]
  },
  {
   "cell_type": "markdown",
   "metadata": {},
   "source": [
    "### 9.) Create a file named evaluate.py that contains the following functions.\n",
    "- plot_residuals(y, yhat): creates a residual plot\n",
    "- regression_errors(y, yhat): returns the following values:\n",
    "    - sum of squared errors (SSE)\n",
    "    - explained sum of squares (ESS)\n",
    "    - total sum of squares (TSS)\n",
    "    - mean squared error (MSE)\n",
    "    - root mean squared error (RMSE)\n",
    "- baseline_mean_errors(y): computes the SSE, MSE, and RMSE for the baseline model\n",
    "- better_than_baseline(y, yhat): returns true if your model performs better than the baseline, otherwise false"
   ]
  },
  {
   "cell_type": "code",
   "execution_count": 25,
   "metadata": {},
   "outputs": [],
   "source": [
    "def plot_residuals(df,feature, y):\n",
    "    #residual is y prediciton - y original (target)\n",
    "    reg_model = LinearRegression().fit(df[[feature]], df[y])\n",
    "    # compute predictions and add to original dataframe\n",
    "    df['yhat'] = reg_model.predict(df[[feature]])\n",
    "    df['yhat_baseline'] = df[y].mean()\n",
    "    df['residual'] = df.yhat - df[y]\n",
    "    #residual baseline is baseline_prediction - baseline actual.\n",
    "    df['residual_baseline'] = df['yhat_baseline'] - df[y]\n",
    "    df.residual.plot.hist()\n",
    "    \n",
    "    plt.show()\n",
    "    df.residual_baseline.plot.hist()\n",
    "    plt.show\n",
    "    "
   ]
  },
  {
   "cell_type": "code",
   "execution_count": 26,
   "metadata": {},
   "outputs": [
    {
     "data": {
      "image/png": "[encoded data removed]",
      "text/plain": [
       "<Figure size 432x288 with 1 Axes>"
      ]
     },
     "metadata": {
      "needs_background": "light"
     },
     "output_type": "display_data"
    },
    {
     "data": {
      "image/png": "[encoded data removed]",
      "text/plain": [
       "<Figure size 432x288 with 1 Axes>"
      ]
     },
     "metadata": {
      "needs_background": "light"
     },
     "output_type": "display_data"
    }
   ],
   "source": [
    "plot_residuals(tips_df, 'total_bill', 'tip')"
   ]
  },
  {
   "cell_type": "code",
   "execution_count": 38,
   "metadata": {},
   "outputs": [],
   "source": [
    "def residual_errors(df,feature, target):\n",
    "    #make baseline prediction \n",
    "    df['yhat_baseline'] = df[target].mean()\n",
    "    # generate parameters, i.e. create model\n",
    "    reg_model = LinearRegression().fit(df[[feature]], df[target])\n",
    "    # compute predictions and add to original dataframe\n",
    "    df['yhat'] = reg_model.predict(df[[feature]])\n",
    "    #Calculating residual and residual baseline\n",
    "    df['residual'] = df['yhat'] - df[target]\n",
    "    df['residual_baseline'] = df['yhat_baseline'] - df[target]\n",
    "    #Residual and baseline residual squared\n",
    "    df['residual^2'] = df.residual ** 2\n",
    "    df['residual_baseline^2'] = df.residual_baseline ** 2\n",
    "    # calculating SSE and SSE baseline\n",
    "    #SUM SQUARED ERROR\n",
    "    SSE = mean_squared_error(df[target], df.yhat)*len(df)\n",
    "    SSE_baseline = mean_squared_error(df[target], df.yhat_baseline)*len(df)\n",
    "    #MEAN SQUARED ERROR\n",
    "    MSE = mean_squared_error(df[target], df.yhat)\n",
    "    MSE_baseline = mean_squared_error(df[target], df.yhat_baseline)\n",
    "    #Root Mean Squared ERROR\n",
    "    RMSE = sqrt(mean_squared_error(df[target], df.yhat))\n",
    "    RMSE_baseline = sqrt(mean_squared_error(df[target], df.yhat_baseline))\n",
    "    #######\n",
    "    ESS = sum((df.yhat - df[target].mean())**2)\n",
    "    ESS_baseline = sum((df.yhat_baseline - df[target].mean())**2)\n",
    "    #######\n",
    "    ###########\n",
    "    TSS = ESS + SSE\n",
    "    TSS_baseline = ESS_baseline + SSE_baseline\n",
    "    ###########\n",
    "    R2 = ESS/TSS\n",
    "    R2_baseline = ESS_baseline / SSE_baseline\n",
    "    #evaluation of model and baseline\n",
    "    df_eval = pd.DataFrame(np.array(['SSE','MSE','RMSE','ESS','TSS','R2']), columns=['metric'])\n",
    "    df_baseline_eval = pd.DataFrame(np.array(['SSE_baseline','MSE_baseline','RMSE_baseline', 'ESS_baseline','TSS_baseline','R2_baseline']), columns=['metric'])\n",
    "    df_eval['model_error'] = np.array([SSE, MSE, RMSE, ESS, TSS, R2])\n",
    "\n",
    "################################################\n",
    "    \n",
    "    print('---------Model---------------')\n",
    "    print(df_eval)\n",
    "    print(\"\")\n",
    "    print('-----------------------------')\n",
    "    print(\"Percent of variance in y explained by x = \", round(R2*100,1), \"%\")\n",
    "    print(\"\")\n",
    "    "
   ]
  },
  {
   "cell_type": "code",
   "execution_count": 39,
   "metadata": {},
   "outputs": [
    {
     "name": "stdout",
     "output_type": "stream",
     "text": [
      "---------Model---------------\n",
      "  metric  model_error\n",
      "0    SSE   252.788744\n",
      "1    MSE     1.036019\n",
      "2   RMSE     1.017850\n",
      "3    ESS   212.423733\n",
      "4    TSS   465.212477\n",
      "5     R2     0.456617\n",
      "\n",
      "-----------------------------\n",
      "Percent of variance in y explained by x =  45.7 %\n",
      "\n"
     ]
    }
   ],
   "source": [
    "residual_errors(tips_df, 'total_bill', 'tip')"
   ]
  },
  {
   "cell_type": "code",
   "execution_count": 20,
   "metadata": {},
   "outputs": [],
   "source": [
    "def baseline_mean_errors(df,feature, target):\n",
    "    df['yhat_baseline'] = df[target].mean()\n",
    "    # generate parameters, i.e. create model\n",
    "    reg_model = LinearRegression().fit(df[[feature]], df[target])\n",
    "    # compute predictions and add to original dataframe\n",
    "    df['yhat'] = reg_model.predict(df[[feature]])\n",
    "    #Calculating residual and residual baseline\n",
    "    df['residual'] = df.yhat - df[target]\n",
    "    df['residual_baseline'] = df['yhat_baseline'] - df[target]\n",
    "    #Residual and baseline residual squared\n",
    "    df['residual^2'] = df.residual ** 2\n",
    "    df['residual_baseline^2'] = df.residual_baseline ** 2\n",
    "    \n",
    "    \n",
    "    \n",
    "    # calculating baseline\n",
    "    #SUM SQUARED ERROR\n",
    "    SSE_baseline = mean_squared_error(df[target], df.yhat_baseline)*len(df)\n",
    "    #MEAN SQUARED ERROR\n",
    "    MSE_baseline = mean_squared_error(df[target], df.yhat_baseline)\n",
    "    #Root Mean Squared Eroor\n",
    "    RMSE_baseline = sqrt(mean_squared_error(df[target], df.yhat_baseline))\n",
    "    \n",
    "    #evaluation of model and baseline\n",
    "    df_baseline_eval = pd.DataFrame(np.array(['SSE_baseline','MSE_baseline','RMSE_baseline']), columns=['metric'])\n",
    "    df_baseline_eval['model_error'] = np.array([SSE_baseline, MSE_baseline, RMSE_baseline])\n",
    "    \n",
    "    print(df_baseline_eval)\n"
   ]
  },
  {
   "cell_type": "code",
   "execution_count": 28,
   "metadata": {},
   "outputs": [
    {
     "name": "stdout",
     "output_type": "stream",
     "text": [
      "          metric  model_error\n",
      "0   SSE_baseline   465.212477\n",
      "1   MSE_baseline     1.906609\n",
      "2  RMSE_baseline     1.380800\n"
     ]
    }
   ],
   "source": [
    "baseline_mean_errors(tips_df, 'total_bill', 'tip')"
   ]
  },
  {
   "cell_type": "code",
   "execution_count": 17,
   "metadata": {},
   "outputs": [],
   "source": [
    "def better_than_baseline(df, feature, target): \n",
    "    df['yhat_baseline'] = df[target].mean()\n",
    "    # generate parameters, i.e. create model\n",
    "    reg_model = LinearRegression().fit(df[[feature]], tips_df[target])\n",
    "    # compute predictions and add to original dataframe\n",
    "    df['yhat'] = reg_model.predict(df[[feature]])\n",
    "    #Calculating residual and residual baseline\n",
    "    df['residual'] = df.yhat - df[target]\n",
    "    df['residual_baseline'] = df['yhat_baseline'] - df[target]\n",
    "    #Residual and baseline residual squared\n",
    "    df['residual^2'] = df.residual ** 2\n",
    "    df['residual_baseline^2'] = df.residual_baseline ** 2\n",
    "    \n",
    "    RMSE = sqrt(mean_squared_error(df[target], df.yhat))\n",
    "    RMSE_baseline = sqrt(mean_squared_error(df[target], df.yhat_baseline))\n",
    "    #######\n",
    "\n",
    "    if RMSE > RMSE_baseline:\n",
    "        print(f'\\n Model performs better than baseline, Model:{RMSE:.2f}, Baseline:{RMSE_baseline: .2f}')\n",
    "    else:\n",
    "        print(f'\\n Model did not perform better than the baseline, Model:{RMSE: .2f}, Baseline:{RMSE_baseline: .2f}')"
   ]
  },
  {
   "cell_type": "code",
   "execution_count": 18,
   "metadata": {},
   "outputs": [
    {
     "name": "stdout",
     "output_type": "stream",
     "text": [
      "\n",
      " Model did not perform better than the baseline, Model: 1.02, Baseline: 1.38\n"
     ]
    }
   ],
   "source": [
    "better_than_baseline(tips_df, 'total_bill', 'tip')"
   ]
  },
  {
   "cell_type": "markdown",
   "metadata": {},
   "source": [
    "### 10.)Load the mpg dataset and fit a model that predicts highway mileage based on engine displacement. Take a look at all the regression evaluation metrics, and determine whether this model is better than the baseline model. Use the functions from your evaluate.py to help accomplish this."
   ]
  },
  {
   "cell_type": "code",
   "execution_count": 49,
   "metadata": {},
   "outputs": [],
   "source": [
    "mpg_df = data('mpg')"
   ]
  },
  {
   "cell_type": "code",
   "execution_count": 50,
   "metadata": {},
   "outputs": [
    {
     "data": {
      "text/html": [
       "<div>\n",
       "<style scoped>\n",
       "    .dataframe tbody tr th:only-of-type {\n",
       "        vertical-align: middle;\n",
       "    }\n",
       "\n",
       "    .dataframe tbody tr th {\n",
       "        vertical-align: top;\n",
       "    }\n",
       "\n",
       "    .dataframe thead th {\n",
       "        text-align: right;\n",
       "    }\n",
       "</style>\n",
       "<table border=\"1\" class=\"dataframe\">\n",
       "  <thead>\n",
       "    <tr style=\"text-align: right;\">\n",
       "      <th></th>\n",
       "      <th>manufacturer</th>\n",
       "      <th>model</th>\n",
       "      <th>displ</th>\n",
       "      <th>year</th>\n",
       "      <th>cyl</th>\n",
       "      <th>trans</th>\n",
       "      <th>drv</th>\n",
       "      <th>cty</th>\n",
       "      <th>hwy</th>\n",
       "      <th>fl</th>\n",
       "      <th>class</th>\n",
       "    </tr>\n",
       "  </thead>\n",
       "  <tbody>\n",
       "    <tr>\n",
       "      <th>1</th>\n",
       "      <td>audi</td>\n",
       "      <td>a4</td>\n",
       "      <td>1.8</td>\n",
       "      <td>1999</td>\n",
       "      <td>4</td>\n",
       "      <td>auto(l5)</td>\n",
       "      <td>f</td>\n",
       "      <td>18</td>\n",
       "      <td>29</td>\n",
       "      <td>p</td>\n",
       "      <td>compact</td>\n",
       "    </tr>\n",
       "    <tr>\n",
       "      <th>2</th>\n",
       "      <td>audi</td>\n",
       "      <td>a4</td>\n",
       "      <td>1.8</td>\n",
       "      <td>1999</td>\n",
       "      <td>4</td>\n",
       "      <td>manual(m5)</td>\n",
       "      <td>f</td>\n",
       "      <td>21</td>\n",
       "      <td>29</td>\n",
       "      <td>p</td>\n",
       "      <td>compact</td>\n",
       "    </tr>\n",
       "    <tr>\n",
       "      <th>3</th>\n",
       "      <td>audi</td>\n",
       "      <td>a4</td>\n",
       "      <td>2.0</td>\n",
       "      <td>2008</td>\n",
       "      <td>4</td>\n",
       "      <td>manual(m6)</td>\n",
       "      <td>f</td>\n",
       "      <td>20</td>\n",
       "      <td>31</td>\n",
       "      <td>p</td>\n",
       "      <td>compact</td>\n",
       "    </tr>\n",
       "    <tr>\n",
       "      <th>4</th>\n",
       "      <td>audi</td>\n",
       "      <td>a4</td>\n",
       "      <td>2.0</td>\n",
       "      <td>2008</td>\n",
       "      <td>4</td>\n",
       "      <td>auto(av)</td>\n",
       "      <td>f</td>\n",
       "      <td>21</td>\n",
       "      <td>30</td>\n",
       "      <td>p</td>\n",
       "      <td>compact</td>\n",
       "    </tr>\n",
       "    <tr>\n",
       "      <th>5</th>\n",
       "      <td>audi</td>\n",
       "      <td>a4</td>\n",
       "      <td>2.8</td>\n",
       "      <td>1999</td>\n",
       "      <td>6</td>\n",
       "      <td>auto(l5)</td>\n",
       "      <td>f</td>\n",
       "      <td>16</td>\n",
       "      <td>26</td>\n",
       "      <td>p</td>\n",
       "      <td>compact</td>\n",
       "    </tr>\n",
       "  </tbody>\n",
       "</table>\n",
       "</div>"
      ],
      "text/plain": [
       "  manufacturer model  displ  year  cyl       trans drv  cty  hwy fl    class\n",
       "1         audi    a4    1.8  1999    4    auto(l5)   f   18   29  p  compact\n",
       "2         audi    a4    1.8  1999    4  manual(m5)   f   21   29  p  compact\n",
       "3         audi    a4    2.0  2008    4  manual(m6)   f   20   31  p  compact\n",
       "4         audi    a4    2.0  2008    4    auto(av)   f   21   30  p  compact\n",
       "5         audi    a4    2.8  1999    6    auto(l5)   f   16   26  p  compact"
      ]
     },
     "execution_count": 50,
     "metadata": {},
     "output_type": "execute_result"
    }
   ],
   "source": [
    "mpg_df.head()"
   ]
  },
  {
   "cell_type": "code",
   "execution_count": null,
   "metadata": {},
   "outputs": [],
   "source": []
  }
 ],
 "metadata": {
  "kernelspec": {
   "display_name": "Python 3",
   "language": "python",
   "name": "python3"
  },
  "language_info": {
   "codemirror_mode": {
    "name": "ipython",
    "version": 3
   },
   "file_extension": ".py",
   "mimetype": "text/x-python",
   "name": "python",
   "nbconvert_exporter": "python",
   "pygments_lexer": "ipython3",
   "version": "3.8.5"
  }
 },
 "nbformat": 4,
 "nbformat_minor": 4
}
