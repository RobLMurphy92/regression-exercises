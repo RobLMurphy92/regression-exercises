{
 "cells": [
  {
   "cell_type": "markdown",
   "metadata": {},
   "source": [
    "Exercises\n",
    "\n",
    "- Select a dataset with a continuous target variable.\n",
    "- Be sure your data is prepared (no missing values, numeric datatypes) and split into samples.\n",
    "- Work through all of the steps outlined in the lesson, from setting the baseline to selected a model and evaluating the final model on your test data."
   ]
  },
  {
   "cell_type": "code",
   "execution_count": 32,
   "metadata": {},
   "outputs": [],
   "source": [
    "import pandas as pd\n",
    "import numpy as np\n",
    "import wrangle\n",
    "from pydataset import data\n",
    "import seaborn as sns\n",
    "import os\n",
    "from env import host, user, password\n",
    "import explore\n",
    "import math\n",
    "\n",
    "from scipy import stats\n",
    "from sklearn.model_selection import train_test_split\n",
    "from sklearn.impute import SimpleImputer\n",
    "from sklearn.preprocessing import LabelEncoder, OneHotEncoder, MinMaxScaler\n",
    "\n",
    "from sklearn.linear_model import LinearRegression\n",
    "from sklearn.feature_selection import RFE\n",
    "from sklearn.linear_model import LassoLars\n",
    "from sklearn.preprocessing import PolynomialFeatures\n",
    "from sklearn.linear_model import TweedieRegressor\n",
    "\n",
    "from sklearn.linear_model import LinearRegression, LassoLars\n",
    "from sklearn.preprocessing import PolynomialFeatures\n",
    "from sklearn.metrics import mean_squared_error"
   ]
  },
  {
   "cell_type": "markdown",
   "metadata": {},
   "source": [
    "#####################################\n",
    "\n",
    "patient:\n",
    "Patient number\n",
    "\n",
    "time1:\n",
    "Time one of recurrence of infection, days\n",
    "\n",
    "infect1:\n",
    "Indicator infection one (1=yes, 0=no)\n",
    "\n",
    "time2:\n",
    "Time two of recurrence of infection, days\n",
    "\n",
    "infect2:\n",
    "Indicator infection two (1=yes, 0=no)\n",
    "\n",
    "age:\n",
    "Patient's age\n",
    "\n",
    "gender:\n",
    "Patient's gender\n",
    "\n",
    "gn:\n",
    "Disease type GN (1=yes, 0=no)\n",
    "\n",
    "an:\n",
    "Disease type AN (1=yes, 0=no)\n",
    "\n",
    "pkd:\n",
    "Disease type PKD (1=yes, 0=no)\n",
    "\n",
    "###wanna predict time 3 of infection reccurence, days###\n",
    "\n",
    "#######################################################"
   ]
  },
  {
   "cell_type": "markdown",
   "metadata": {},
   "source": [
    "## MVP FIRST!"
   ]
  },
  {
   "cell_type": "markdown",
   "metadata": {},
   "source": [
    "\n",
    "\n",
    "- Acquired \n",
    "- Split data\n",
    "- Model"
   ]
  },
  {
   "cell_type": "code",
   "execution_count": 5,
   "metadata": {},
   "outputs": [
    {
     "name": "stdout",
     "output_type": "stream",
     "text": [
      "<class 'pandas.core.frame.DataFrame'>\n",
      "Int64Index: 38 entries, 1 to 38\n",
      "Data columns (total 10 columns):\n",
      " #   Column   Non-Null Count  Dtype  \n",
      "---  ------   --------------  -----  \n",
      " 0   patient  38 non-null     int64  \n",
      " 1   time1    38 non-null     int64  \n",
      " 2   infect1  38 non-null     int64  \n",
      " 3   time2    38 non-null     int64  \n",
      " 4   infect2  38 non-null     int64  \n",
      " 5   age      38 non-null     float64\n",
      " 6   gender   38 non-null     int64  \n",
      " 7   gn       38 non-null     int64  \n",
      " 8   an       38 non-null     int64  \n",
      " 9   pkd      38 non-null     int64  \n",
      "dtypes: float64(1), int64(9)\n",
      "memory usage: 3.3 KB\n"
     ]
    }
   ],
   "source": [
    "##Acquiring the data\n",
    "kidney_df = data('kidrecurr')\n",
    "kidney_df.info()"
   ]
  },
  {
   "cell_type": "code",
   "execution_count": 6,
   "metadata": {},
   "outputs": [],
   "source": [
    "#renaming columns: changed time to time to frist reccurrence of infection.\n",
    "kidney_df.rename(columns = {'time1': 'time_to_first_recurrence','time2': 'time_to_second_recurrence','infect1': 'first_infect_recurrence', 'infect2':'second_infect_recurrence' }, inplace =True)"
   ]
  },
  {
   "cell_type": "code",
   "execution_count": 7,
   "metadata": {},
   "outputs": [
    {
     "data": {
      "text/html": [
       "<div>\n",
       "<style scoped>\n",
       "    .dataframe tbody tr th:only-of-type {\n",
       "        vertical-align: middle;\n",
       "    }\n",
       "\n",
       "    .dataframe tbody tr th {\n",
       "        vertical-align: top;\n",
       "    }\n",
       "\n",
       "    .dataframe thead th {\n",
       "        text-align: right;\n",
       "    }\n",
       "</style>\n",
       "<table border=\"1\" class=\"dataframe\">\n",
       "  <thead>\n",
       "    <tr style=\"text-align: right;\">\n",
       "      <th></th>\n",
       "      <th>patient</th>\n",
       "      <th>time_to_first_recurrence</th>\n",
       "      <th>first_infect_recurrence</th>\n",
       "      <th>time_to_second_recurrence</th>\n",
       "      <th>second_infect_recurrence</th>\n",
       "      <th>age</th>\n",
       "      <th>gender</th>\n",
       "      <th>gn</th>\n",
       "      <th>an</th>\n",
       "      <th>pkd</th>\n",
       "    </tr>\n",
       "  </thead>\n",
       "  <tbody>\n",
       "    <tr>\n",
       "      <th>1</th>\n",
       "      <td>1</td>\n",
       "      <td>16</td>\n",
       "      <td>1</td>\n",
       "      <td>8</td>\n",
       "      <td>1</td>\n",
       "      <td>28.0</td>\n",
       "      <td>0</td>\n",
       "      <td>0</td>\n",
       "      <td>0</td>\n",
       "      <td>0</td>\n",
       "    </tr>\n",
       "    <tr>\n",
       "      <th>2</th>\n",
       "      <td>2</td>\n",
       "      <td>13</td>\n",
       "      <td>0</td>\n",
       "      <td>23</td>\n",
       "      <td>1</td>\n",
       "      <td>48.0</td>\n",
       "      <td>1</td>\n",
       "      <td>1</td>\n",
       "      <td>0</td>\n",
       "      <td>0</td>\n",
       "    </tr>\n",
       "    <tr>\n",
       "      <th>3</th>\n",
       "      <td>3</td>\n",
       "      <td>22</td>\n",
       "      <td>1</td>\n",
       "      <td>28</td>\n",
       "      <td>1</td>\n",
       "      <td>32.0</td>\n",
       "      <td>0</td>\n",
       "      <td>0</td>\n",
       "      <td>0</td>\n",
       "      <td>0</td>\n",
       "    </tr>\n",
       "    <tr>\n",
       "      <th>4</th>\n",
       "      <td>4</td>\n",
       "      <td>318</td>\n",
       "      <td>1</td>\n",
       "      <td>447</td>\n",
       "      <td>1</td>\n",
       "      <td>31.5</td>\n",
       "      <td>1</td>\n",
       "      <td>0</td>\n",
       "      <td>0</td>\n",
       "      <td>0</td>\n",
       "    </tr>\n",
       "    <tr>\n",
       "      <th>5</th>\n",
       "      <td>5</td>\n",
       "      <td>30</td>\n",
       "      <td>1</td>\n",
       "      <td>12</td>\n",
       "      <td>1</td>\n",
       "      <td>10.0</td>\n",
       "      <td>0</td>\n",
       "      <td>0</td>\n",
       "      <td>0</td>\n",
       "      <td>0</td>\n",
       "    </tr>\n",
       "  </tbody>\n",
       "</table>\n",
       "</div>"
      ],
      "text/plain": [
       "   patient  time_to_first_recurrence  first_infect_recurrence  \\\n",
       "1        1                        16                        1   \n",
       "2        2                        13                        0   \n",
       "3        3                        22                        1   \n",
       "4        4                       318                        1   \n",
       "5        5                        30                        1   \n",
       "\n",
       "   time_to_second_recurrence  second_infect_recurrence   age  gender  gn  an  \\\n",
       "1                          8                         1  28.0       0   0   0   \n",
       "2                         23                         1  48.0       1   1   0   \n",
       "3                         28                         1  32.0       0   0   0   \n",
       "4                        447                         1  31.5       1   0   0   \n",
       "5                         12                         1  10.0       0   0   0   \n",
       "\n",
       "   pkd  \n",
       "1    0  \n",
       "2    0  \n",
       "3    0  \n",
       "4    0  \n",
       "5    0  "
      ]
     },
     "execution_count": 7,
     "metadata": {},
     "output_type": "execute_result"
    }
   ],
   "source": [
    "kidney_df.head()"
   ]
  },
  {
   "cell_type": "code",
   "execution_count": 9,
   "metadata": {},
   "outputs": [],
   "source": [
    "#checking for empty values or nulls.\n",
    "kindey_df = kidney_df.drop_duplicates()"
   ]
  },
  {
   "cell_type": "code",
   "execution_count": 12,
   "metadata": {},
   "outputs": [
    {
     "data": {
      "text/plain": [
       "((21, 10), (9, 10), (8, 10))"
      ]
     },
     "execution_count": 12,
     "metadata": {},
     "output_type": "execute_result"
    }
   ],
   "source": [
    "# split the data\n",
    "train, validate, test = wrangle.general_split(kidney_df,None)\n",
    "train.shape, validate.shape, test.shape"
   ]
  },
  {
   "cell_type": "code",
   "execution_count": 14,
   "metadata": {},
   "outputs": [
    {
     "name": "stdout",
     "output_type": "stream",
     "text": [
      "<class 'pandas.core.frame.DataFrame'>\n",
      "Int64Index: 21 entries, 11 to 35\n",
      "Data columns (total 10 columns):\n",
      " #   Column                     Non-Null Count  Dtype  \n",
      "---  ------                     --------------  -----  \n",
      " 0   patient                    21 non-null     int64  \n",
      " 1   time_to_first_recurrence   21 non-null     int64  \n",
      " 2   first_infect_recurrence    21 non-null     int64  \n",
      " 3   time_to_second_recurrence  21 non-null     int64  \n",
      " 4   second_infect_recurrence   21 non-null     int64  \n",
      " 5   age                        21 non-null     float64\n",
      " 6   gender                     21 non-null     int64  \n",
      " 7   gn                         21 non-null     int64  \n",
      " 8   an                         21 non-null     int64  \n",
      " 9   pkd                        21 non-null     int64  \n",
      "dtypes: float64(1), int64(9)\n",
      "memory usage: 1.8 KB\n"
     ]
    }
   ],
   "source": [
    "train.info()"
   ]
  },
  {
   "cell_type": "code",
   "execution_count": 19,
   "metadata": {},
   "outputs": [
    {
     "data": {
      "text/plain": [
       "(Text(0.5, 1.0, 'age'),\n",
       " count    21.000000\n",
       " mean     42.214286\n",
       " std      14.795752\n",
       " min      10.000000\n",
       " 25%      34.000000\n",
       " 50%      44.000000\n",
       " 75%      53.000000\n",
       " max      60.000000\n",
       " Name: age, dtype: float64)"
      ]
     },
     "execution_count": 19,
     "metadata": {},
     "output_type": "execute_result"
    },
    {
     "data": {
      "image/png": "[encoded data removed]",
      "text/plain": [
       "<Figure size 576x144 with 2 Axes>"
      ]
     },
     "metadata": {
      "needs_background": "light"
     },
     "output_type": "display_data"
    },
    {
     "data": {
      "image/png": "[encoded data removed]",
      "text/plain": [
       "<Figure size 576x144 with 2 Axes>"
      ]
     },
     "metadata": {
      "needs_background": "light"
     },
     "output_type": "display_data"
    },
    {
     "data": {
      "image/png": "[encoded data removed]",
      "text/plain": [
       "<Figure size 576x144 with 2 Axes>"
      ]
     },
     "metadata": {
      "needs_background": "light"
     },
     "output_type": "display_data"
    }
   ],
   "source": [
    "#doesnt appear to be normally distributed on numerical columns.\n",
    "quant = ['time_to_first_recurrence','time_to_second_recurrence', 'age']\n",
    "\n",
    "explore.explore_univariate_quant(train,quant[0])\n",
    "explore.explore_univariate_quant(train,quant[1])\n",
    "explore.explore_univariate_quant(train,quant[2])"
   ]
  },
  {
   "cell_type": "code",
   "execution_count": 20,
   "metadata": {},
   "outputs": [
    {
     "name": "stdout",
     "output_type": "stream",
     "text": [
      "gender \n",
      "_____________________\n",
      "\n",
      "   chi2   p-value  degrees of freedom\n",
      "0  18.0  0.455653                  18\n",
      "\n",
      "observed:\n",
      " time_to_second_recurrence  7  8  12  16  22  23  25  28  30  33  43  46  63  \\\n",
      "gender                                                                        \n",
      "0                          1  1   1   0   0   0   1   1   0   0   0   0   1   \n",
      "1                          0  2   0   1   1   1   0   0   1   1   1   1   0   \n",
      "All                        1  3   1   1   1   1   1   1   1   1   1   1   1   \n",
      "\n",
      "time_to_second_recurrence  149  152  156  177  201  292  All  \n",
      "gender                                                        \n",
      "0                            0    1    0    0    0    0    7  \n",
      "1                            1    0    1    1    1    1   14  \n",
      "All                          1    1    1    1    1    1   21  \n",
      "\n",
      "expected:\n",
      "          0    1         2         3         4         5         6         7   \\\n",
      "0  0.333333  1.0  0.333333  0.333333  0.333333  0.333333  0.333333  0.333333   \n",
      "1  0.666667  2.0  0.666667  0.666667  0.666667  0.666667  0.666667  0.666667   \n",
      "\n",
      "         8         9         10        11        12        13        14  \\\n",
      "0  0.333333  0.333333  0.333333  0.333333  0.333333  0.333333  0.333333   \n",
      "1  0.666667  0.666667  0.666667  0.666667  0.666667  0.666667  0.666667   \n",
      "\n",
      "         15        16        17        18  \n",
      "0  0.333333  0.333333  0.333333  0.333333  \n",
      "1  0.666667  0.666667  0.666667  0.666667  \n"
     ]
    },
    {
     "name": "stderr",
     "output_type": "stream",
     "text": [
      "/usr/local/anaconda3/lib/python3.8/site-packages/seaborn/_decorators.py:36: FutureWarning: Pass the following variables as keyword args: x, y. From version 0.12, the only valid positional argument will be `data`, and passing other arguments without an explicit keyword will result in an error or misinterpretation.\n",
      "  warnings.warn(\n"
     ]
    },
    {
     "data": {
      "image/png": "[encoded data removed]",
      "text/plain": [
       "<Figure size 144x144 with 1 Axes>"
      ]
     },
     "metadata": {
      "needs_background": "light"
     },
     "output_type": "display_data"
    },
    {
     "name": "stdout",
     "output_type": "stream",
     "text": [
      "\n",
      "_____________________\n",
      "\n",
      "gn \n",
      "_____________________\n",
      "\n",
      "   chi2   p-value  degrees of freedom\n",
      "0  21.0  0.279413                  18\n",
      "\n",
      "observed:\n",
      " time_to_second_recurrence  7  8  12  16  22  23  25  28  30  33  43  46  63  \\\n",
      "gn                                                                            \n",
      "0                          0  3   1   1   0   0   0   1   1   1   1   1   1   \n",
      "1                          1  0   0   0   1   1   1   0   0   0   0   0   0   \n",
      "All                        1  3   1   1   1   1   1   1   1   1   1   1   1   \n",
      "\n",
      "time_to_second_recurrence  149  152  156  177  201  292  All  \n",
      "gn                                                            \n",
      "0                            1    1    0    1    1    1   16  \n",
      "1                            0    0    1    0    0    0    5  \n",
      "All                          1    1    1    1    1    1   21  \n",
      "\n",
      "expected:\n",
      "          0         1         2         3         4         5         6   \\\n",
      "0  0.761905  2.285714  0.761905  0.761905  0.761905  0.761905  0.761905   \n",
      "1  0.238095  0.714286  0.238095  0.238095  0.238095  0.238095  0.238095   \n",
      "\n",
      "         7         8         9         10        11        12        13  \\\n",
      "0  0.761905  0.761905  0.761905  0.761905  0.761905  0.761905  0.761905   \n",
      "1  0.238095  0.238095  0.238095  0.238095  0.238095  0.238095  0.238095   \n",
      "\n",
      "         14        15        16        17        18  \n",
      "0  0.761905  0.761905  0.761905  0.761905  0.761905  \n",
      "1  0.238095  0.238095  0.238095  0.238095  0.238095  \n"
     ]
    },
    {
     "name": "stderr",
     "output_type": "stream",
     "text": [
      "/usr/local/anaconda3/lib/python3.8/site-packages/seaborn/_decorators.py:36: FutureWarning: Pass the following variables as keyword args: x, y. From version 0.12, the only valid positional argument will be `data`, and passing other arguments without an explicit keyword will result in an error or misinterpretation.\n",
      "  warnings.warn(\n"
     ]
    },
    {
     "data": {
      "image/png": "[encoded data removed]",
      "text/plain": [
       "<Figure size 144x144 with 1 Axes>"
      ]
     },
     "metadata": {
      "needs_background": "light"
     },
     "output_type": "display_data"
    },
    {
     "name": "stdout",
     "output_type": "stream",
     "text": [
      "\n",
      "_____________________\n",
      "\n",
      "an \n",
      "_____________________\n",
      "\n",
      "   chi2   p-value  degrees of freedom\n",
      "0  21.0  0.279413                  18\n",
      "\n",
      "observed:\n",
      " time_to_second_recurrence  7  8  12  16  22  23  25  28  30  33  43  46  63  \\\n",
      "an                                                                            \n",
      "0                          1  3   1   1   1   1   1   1   1   0   0   0   1   \n",
      "1                          0  0   0   0   0   0   0   0   0   1   1   1   0   \n",
      "All                        1  3   1   1   1   1   1   1   1   1   1   1   1   \n",
      "\n",
      "time_to_second_recurrence  149  152  156  177  201  292  All  \n",
      "an                                                            \n",
      "0                            0    1    1    1    0    1   16  \n",
      "1                            1    0    0    0    1    0    5  \n",
      "All                          1    1    1    1    1    1   21  \n",
      "\n",
      "expected:\n",
      "          0         1         2         3         4         5         6   \\\n",
      "0  0.761905  2.285714  0.761905  0.761905  0.761905  0.761905  0.761905   \n",
      "1  0.238095  0.714286  0.238095  0.238095  0.238095  0.238095  0.238095   \n",
      "\n",
      "         7         8         9         10        11        12        13  \\\n",
      "0  0.761905  0.761905  0.761905  0.761905  0.761905  0.761905  0.761905   \n",
      "1  0.238095  0.238095  0.238095  0.238095  0.238095  0.238095  0.238095   \n",
      "\n",
      "         14        15        16        17        18  \n",
      "0  0.761905  0.761905  0.761905  0.761905  0.761905  \n",
      "1  0.238095  0.238095  0.238095  0.238095  0.238095  \n"
     ]
    },
    {
     "name": "stderr",
     "output_type": "stream",
     "text": [
      "/usr/local/anaconda3/lib/python3.8/site-packages/seaborn/_decorators.py:36: FutureWarning: Pass the following variables as keyword args: x, y. From version 0.12, the only valid positional argument will be `data`, and passing other arguments without an explicit keyword will result in an error or misinterpretation.\n",
      "  warnings.warn(\n"
     ]
    },
    {
     "data": {
      "image/png": "[encoded data removed]",
      "text/plain": [
       "<Figure size 144x144 with 1 Axes>"
      ]
     },
     "metadata": {
      "needs_background": "light"
     },
     "output_type": "display_data"
    },
    {
     "name": "stdout",
     "output_type": "stream",
     "text": [
      "\n",
      "_____________________\n",
      "\n",
      "pkd \n",
      "_____________________\n",
      "\n",
      "   chi2   p-value  degrees of freedom\n",
      "0  21.0  0.279413                  18\n",
      "\n",
      "observed:\n",
      " time_to_second_recurrence  7  8  12  16  22  23  25  28  30  33  43  46  63  \\\n",
      "pkd                                                                           \n",
      "0                          1  3   1   1   1   1   1   1   0   1   1   1   0   \n",
      "1                          0  0   0   0   0   0   0   0   1   0   0   0   1   \n",
      "All                        1  3   1   1   1   1   1   1   1   1   1   1   1   \n",
      "\n",
      "time_to_second_recurrence  149  152  156  177  201  292  All  \n",
      "pkd                                                           \n",
      "0                            1    0    1    1    1    1   18  \n",
      "1                            0    1    0    0    0    0    3  \n",
      "All                          1    1    1    1    1    1   21  \n",
      "\n",
      "expected:\n",
      "          0         1         2         3         4         5         6   \\\n",
      "0  0.857143  2.571429  0.857143  0.857143  0.857143  0.857143  0.857143   \n",
      "1  0.142857  0.428571  0.142857  0.142857  0.142857  0.142857  0.142857   \n",
      "\n",
      "         7         8         9         10        11        12        13  \\\n",
      "0  0.857143  0.857143  0.857143  0.857143  0.857143  0.857143  0.857143   \n",
      "1  0.142857  0.142857  0.142857  0.142857  0.142857  0.142857  0.142857   \n",
      "\n",
      "         14        15        16        17        18  \n",
      "0  0.857143  0.857143  0.857143  0.857143  0.857143  \n",
      "1  0.142857  0.142857  0.142857  0.142857  0.142857  \n"
     ]
    },
    {
     "name": "stderr",
     "output_type": "stream",
     "text": [
      "/usr/local/anaconda3/lib/python3.8/site-packages/seaborn/_decorators.py:36: FutureWarning: Pass the following variables as keyword args: x, y. From version 0.12, the only valid positional argument will be `data`, and passing other arguments without an explicit keyword will result in an error or misinterpretation.\n",
      "  warnings.warn(\n"
     ]
    },
    {
     "data": {
      "image/png": "[encoded data removed]",
      "text/plain": [
       "<Figure size 144x144 with 1 Axes>"
      ]
     },
     "metadata": {
      "needs_background": "light"
     },
     "output_type": "display_data"
    },
    {
     "name": "stdout",
     "output_type": "stream",
     "text": [
      "\n",
      "_____________________\n",
      "\n"
     ]
    }
   ],
   "source": [
    "explore.explore_bivariate_categorical(train,'time_to_second_recurrence', 'gender' )\n",
    "explore.explore_bivariate_categorical(train,'time_to_second_recurrence', 'gn' )\n",
    "explore.explore_bivariate_categorical(train,'time_to_second_recurrence', 'an' )\n",
    "explore.explore_bivariate_categorical(train,'time_to_second_recurrence', 'pkd' )"
   ]
  },
  {
   "cell_type": "code",
   "execution_count": 23,
   "metadata": {},
   "outputs": [],
   "source": [
    "X_train, y_train, X_validate, y_validate, X_test, y_test = wrangle.train_validate_test(kidney_df,'time_to_second_recurrence')"
   ]
  },
  {
   "cell_type": "code",
   "execution_count": 24,
   "metadata": {},
   "outputs": [],
   "source": [
    "#creating baseline\n",
    "baseline = y_train.mean()"
   ]
  },
  {
   "cell_type": "code",
   "execution_count": 27,
   "metadata": {},
   "outputs": [
    {
     "data": {
      "text/html": [
       "<div>\n",
       "<style scoped>\n",
       "    .dataframe tbody tr th:only-of-type {\n",
       "        vertical-align: middle;\n",
       "    }\n",
       "\n",
       "    .dataframe tbody tr th {\n",
       "        vertical-align: top;\n",
       "    }\n",
       "\n",
       "    .dataframe thead th {\n",
       "        text-align: right;\n",
       "    }\n",
       "</style>\n",
       "<table border=\"1\" class=\"dataframe\">\n",
       "  <thead>\n",
       "    <tr style=\"text-align: right;\">\n",
       "      <th></th>\n",
       "      <th>actual</th>\n",
       "      <th>baseline</th>\n",
       "    </tr>\n",
       "  </thead>\n",
       "  <tbody>\n",
       "    <tr>\n",
       "      <th>2</th>\n",
       "      <td>23</td>\n",
       "      <td>91.47619</td>\n",
       "    </tr>\n",
       "    <tr>\n",
       "      <th>31</th>\n",
       "      <td>58</td>\n",
       "      <td>91.47619</td>\n",
       "    </tr>\n",
       "    <tr>\n",
       "      <th>24</th>\n",
       "      <td>46</td>\n",
       "      <td>91.47619</td>\n",
       "    </tr>\n",
       "    <tr>\n",
       "      <th>22</th>\n",
       "      <td>402</td>\n",
       "      <td>91.47619</td>\n",
       "    </tr>\n",
       "    <tr>\n",
       "      <th>23</th>\n",
       "      <td>13</td>\n",
       "      <td>91.47619</td>\n",
       "    </tr>\n",
       "    <tr>\n",
       "      <th>27</th>\n",
       "      <td>156</td>\n",
       "      <td>91.47619</td>\n",
       "    </tr>\n",
       "    <tr>\n",
       "      <th>34</th>\n",
       "      <td>5</td>\n",
       "      <td>91.47619</td>\n",
       "    </tr>\n",
       "    <tr>\n",
       "      <th>16</th>\n",
       "      <td>17</td>\n",
       "      <td>91.47619</td>\n",
       "    </tr>\n",
       "    <tr>\n",
       "      <th>21</th>\n",
       "      <td>152</td>\n",
       "      <td>91.47619</td>\n",
       "    </tr>\n",
       "    <tr>\n",
       "      <th>37</th>\n",
       "      <td>78</td>\n",
       "      <td>91.47619</td>\n",
       "    </tr>\n",
       "    <tr>\n",
       "      <th>20</th>\n",
       "      <td>15</td>\n",
       "      <td>91.47619</td>\n",
       "    </tr>\n",
       "    <tr>\n",
       "      <th>14</th>\n",
       "      <td>149</td>\n",
       "      <td>91.47619</td>\n",
       "    </tr>\n",
       "    <tr>\n",
       "      <th>33</th>\n",
       "      <td>30</td>\n",
       "      <td>91.47619</td>\n",
       "    </tr>\n",
       "    <tr>\n",
       "      <th>1</th>\n",
       "      <td>8</td>\n",
       "      <td>91.47619</td>\n",
       "    </tr>\n",
       "    <tr>\n",
       "      <th>17</th>\n",
       "      <td>177</td>\n",
       "      <td>91.47619</td>\n",
       "    </tr>\n",
       "    <tr>\n",
       "      <th>10</th>\n",
       "      <td>15</td>\n",
       "      <td>91.47619</td>\n",
       "    </tr>\n",
       "    <tr>\n",
       "      <th>15</th>\n",
       "      <td>25</td>\n",
       "      <td>91.47619</td>\n",
       "    </tr>\n",
       "    <tr>\n",
       "      <th>30</th>\n",
       "      <td>130</td>\n",
       "      <td>91.47619</td>\n",
       "    </tr>\n",
       "    <tr>\n",
       "      <th>29</th>\n",
       "      <td>25</td>\n",
       "      <td>91.47619</td>\n",
       "    </tr>\n",
       "    <tr>\n",
       "      <th>9</th>\n",
       "      <td>196</td>\n",
       "      <td>91.47619</td>\n",
       "    </tr>\n",
       "    <tr>\n",
       "      <th>26</th>\n",
       "      <td>201</td>\n",
       "      <td>91.47619</td>\n",
       "    </tr>\n",
       "  </tbody>\n",
       "</table>\n",
       "</div>"
      ],
      "text/plain": [
       "    actual  baseline\n",
       "2       23  91.47619\n",
       "31      58  91.47619\n",
       "24      46  91.47619\n",
       "22     402  91.47619\n",
       "23      13  91.47619\n",
       "27     156  91.47619\n",
       "34       5  91.47619\n",
       "16      17  91.47619\n",
       "21     152  91.47619\n",
       "37      78  91.47619\n",
       "20      15  91.47619\n",
       "14     149  91.47619\n",
       "33      30  91.47619\n",
       "1        8  91.47619\n",
       "17     177  91.47619\n",
       "10      15  91.47619\n",
       "15      25  91.47619\n",
       "30     130  91.47619\n",
       "29      25  91.47619\n",
       "9      196  91.47619\n",
       "26     201  91.47619"
      ]
     },
     "execution_count": 27,
     "metadata": {},
     "output_type": "execute_result"
    }
   ],
   "source": [
    "#creating predictions.actual and predictions.baseline\n",
    "predictions = pd.DataFrame()\n",
    "predictions['actual'] = y_train\n",
    "predictions['baseline'] = baseline\n",
    "predictions"
   ]
  },
  {
   "cell_type": "code",
   "execution_count": 28,
   "metadata": {},
   "outputs": [],
   "source": [
    "model1 = LassoLars(alpha=.1)\n",
    "model1.fit(X_train, y_train)\n",
    "\n",
    "predictions['model1'] = model1.predict(X_train)"
   ]
  },
  {
   "cell_type": "code",
   "execution_count": 33,
   "metadata": {},
   "outputs": [
    {
     "name": "stdout",
     "output_type": "stream",
     "text": [
      "Train RMSE Baseline\n"
     ]
    },
    {
     "data": {
      "text/plain": [
       "97.05306307455831"
      ]
     },
     "execution_count": 33,
     "metadata": {},
     "output_type": "execute_result"
    }
   ],
   "source": [
    "print('Train RMSE Baseline')\n",
    "math.sqrt(mean_squared_error(predictions.actual, predictions.baseline))"
   ]
  },
  {
   "cell_type": "code",
   "execution_count": 39,
   "metadata": {},
   "outputs": [
    {
     "name": "stdout",
     "output_type": "stream",
     "text": [
      "Train RMSE model1\n"
     ]
    },
    {
     "data": {
      "text/plain": [
       "82.52995702090101"
      ]
     },
     "execution_count": 39,
     "metadata": {},
     "output_type": "execute_result"
    }
   ],
   "source": [
    "print('Train RMSE model1')\n",
    "math.sqrt(mean_squared_error(predictions.actual, predictions.model1))"
   ]
  },
  {
   "cell_type": "code",
   "execution_count": 35,
   "metadata": {},
   "outputs": [],
   "source": [
    "X_train_poly = X_train[['pkd', 'gn', 'age']]\n",
    "\n",
    "poly = PolynomialFeatures()\n",
    "poly.fit(X_train_poly)\n",
    "X_train_transformed = poly.transform(X_train_poly)"
   ]
  },
  {
   "cell_type": "code",
   "execution_count": 36,
   "metadata": {},
   "outputs": [
    {
     "data": {
      "text/plain": [
       "LinearRegression()"
      ]
     },
     "execution_count": 36,
     "metadata": {},
     "output_type": "execute_result"
    }
   ],
   "source": [
    "model2 = LinearRegression()\n",
    "model2.fit(X_train_transformed, y_train)"
   ]
  },
  {
   "cell_type": "code",
   "execution_count": 37,
   "metadata": {},
   "outputs": [],
   "source": [
    "predictions['model2'] = model2.predict(X_train_transformed)"
   ]
  },
  {
   "cell_type": "code",
   "execution_count": 38,
   "metadata": {},
   "outputs": [
    {
     "name": "stdout",
     "output_type": "stream",
     "text": [
      "Train RMSE model2\n"
     ]
    },
    {
     "data": {
      "text/plain": [
       "90.32020390589726"
      ]
     },
     "execution_count": 38,
     "metadata": {},
     "output_type": "execute_result"
    }
   ],
   "source": [
    "print('Train RMSE model2')\n",
    "math.sqrt(mean_squared_error(predictions.actual, predictions.model2))"
   ]
  },
  {
   "cell_type": "code",
   "execution_count": null,
   "metadata": {},
   "outputs": [],
   "source": []
  }
 ],
 "metadata": {
  "kernelspec": {
   "display_name": "Python 3",
   "language": "python",
   "name": "python3"
  },
  "language_info": {
   "codemirror_mode": {
    "name": "ipython",
    "version": 3
   },
   "file_extension": ".py",
   "mimetype": "text/x-python",
   "name": "python",
   "nbconvert_exporter": "python",
   "pygments_lexer": "ipython3",
   "version": "3.8.5"
  }
 },
 "nbformat": 4,
 "nbformat_minor": 4
}
