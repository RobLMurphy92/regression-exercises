{
 "cells": [
  {
   "cell_type": "markdown",
   "metadata": {},
   "source": [
    "Exercises\n",
    "\n",
    "- Select a dataset with a continuous target variable.\n",
    "- Be sure your data is prepared (no missing values, numeric datatypes) and split into samples.\n",
    "- Work through all of the steps outlined in the lesson, from setting the baseline to selected a model and evaluating the final model on your test data."
   ]
  },
  {
   "cell_type": "code",
   "execution_count": 1,
   "metadata": {},
   "outputs": [],
   "source": [
    "import pandas as pd\n",
    "import numpy as np\n",
    "import wrangle\n",
    "from pydataset import data\n",
    "import seaborn as sns\n",
    "import os\n",
    "from env import host, user, password\n",
    "import explore\n",
    "\n",
    "from scipy import stats\n",
    "from sklearn.model_selection import train_test_split\n",
    "from sklearn.impute import SimpleImputer\n",
    "from sklearn.preprocessing import LabelEncoder, OneHotEncoder, MinMaxScaler\n",
    "\n",
    "from sklearn.linear_model import LinearRegression\n",
    "from sklearn.feature_selection import RFE\n",
    "from sklearn.linear_model import LassoLars\n",
    "from sklearn.preprocessing import PolynomialFeatures\n",
    "from sklearn.linear_model import TweedieRegressor"
   ]
  },
  {
   "cell_type": "markdown",
   "metadata": {},
   "source": [
    "#####################################\n",
    "\n",
    "patient:\n",
    "Patient number\n",
    "\n",
    "time1:\n",
    "Time one of recurrence of infection, days\n",
    "\n",
    "infect1:\n",
    "Indicator infection one (1=yes, 0=no)\n",
    "\n",
    "time2:\n",
    "Time two of recurrence of infection, days\n",
    "\n",
    "infect2:\n",
    "Indicator infection two (1=yes, 0=no)\n",
    "\n",
    "age:\n",
    "Patient's age\n",
    "\n",
    "gender:\n",
    "Patient's gender\n",
    "\n",
    "gn:\n",
    "Disease type GN (1=yes, 0=no)\n",
    "\n",
    "an:\n",
    "Disease type AN (1=yes, 0=no)\n",
    "\n",
    "pkd:\n",
    "Disease type PKD (1=yes, 0=no)\n",
    "\n",
    "###wanna predict time 3 of infection reccurence, days###\n",
    "\n",
    "#######################################################"
   ]
  },
  {
   "cell_type": "markdown",
   "metadata": {},
   "source": [
    "Prepare Data for Modeling\n",
    "\n",
    "Wrangle\n",
    "\n",
    "- Acquired data from student-mat.csv.\n",
    "- Create dummy vars\n",
    "- Split data\n",
    "- Scale data"
   ]
  },
  {
   "cell_type": "code",
   "execution_count": 2,
   "metadata": {},
   "outputs": [
    {
     "name": "stdout",
     "output_type": "stream",
     "text": [
      "<class 'pandas.core.frame.DataFrame'>\n",
      "Int64Index: 38 entries, 1 to 38\n",
      "Data columns (total 10 columns):\n",
      " #   Column   Non-Null Count  Dtype  \n",
      "---  ------   --------------  -----  \n",
      " 0   patient  38 non-null     int64  \n",
      " 1   time1    38 non-null     int64  \n",
      " 2   infect1  38 non-null     int64  \n",
      " 3   time2    38 non-null     int64  \n",
      " 4   infect2  38 non-null     int64  \n",
      " 5   age      38 non-null     float64\n",
      " 6   gender   38 non-null     int64  \n",
      " 7   gn       38 non-null     int64  \n",
      " 8   an       38 non-null     int64  \n",
      " 9   pkd      38 non-null     int64  \n",
      "dtypes: float64(1), int64(9)\n",
      "memory usage: 3.3 KB\n"
     ]
    }
   ],
   "source": [
    "##Acquiring the data\n",
    "kidney_df = data('kidrecurr')\n",
    "kidney_df.info()"
   ]
  },
  {
   "cell_type": "code",
   "execution_count": 3,
   "metadata": {},
   "outputs": [],
   "source": [
    "#renaming columns: changed time to time to frist reccurrence of infection.\n",
    "kidney_df.rename(columns = {'time1': 'time_to_first_recurrence','time2': 'time_to_second_recurrence','infect1': 'first_infect_recurrence', 'infect2':'second_infect_recurrence' }, inplace =True)"
   ]
  },
  {
   "cell_type": "code",
   "execution_count": 4,
   "metadata": {},
   "outputs": [
    {
     "data": {
      "text/html": [
       "<div>\n",
       "<style scoped>\n",
       "    .dataframe tbody tr th:only-of-type {\n",
       "        vertical-align: middle;\n",
       "    }\n",
       "\n",
       "    .dataframe tbody tr th {\n",
       "        vertical-align: top;\n",
       "    }\n",
       "\n",
       "    .dataframe thead th {\n",
       "        text-align: right;\n",
       "    }\n",
       "</style>\n",
       "<table border=\"1\" class=\"dataframe\">\n",
       "  <thead>\n",
       "    <tr style=\"text-align: right;\">\n",
       "      <th></th>\n",
       "      <th>patient</th>\n",
       "      <th>time_to_first_recurrence</th>\n",
       "      <th>first_infect_recurrence</th>\n",
       "      <th>time_to_second_recurrence</th>\n",
       "      <th>second_infect_recurrence</th>\n",
       "      <th>age</th>\n",
       "      <th>gender</th>\n",
       "      <th>gn</th>\n",
       "      <th>an</th>\n",
       "      <th>pkd</th>\n",
       "    </tr>\n",
       "  </thead>\n",
       "  <tbody>\n",
       "    <tr>\n",
       "      <th>1</th>\n",
       "      <td>1</td>\n",
       "      <td>16</td>\n",
       "      <td>1</td>\n",
       "      <td>8</td>\n",
       "      <td>1</td>\n",
       "      <td>28.0</td>\n",
       "      <td>0</td>\n",
       "      <td>0</td>\n",
       "      <td>0</td>\n",
       "      <td>0</td>\n",
       "    </tr>\n",
       "    <tr>\n",
       "      <th>2</th>\n",
       "      <td>2</td>\n",
       "      <td>13</td>\n",
       "      <td>0</td>\n",
       "      <td>23</td>\n",
       "      <td>1</td>\n",
       "      <td>48.0</td>\n",
       "      <td>1</td>\n",
       "      <td>1</td>\n",
       "      <td>0</td>\n",
       "      <td>0</td>\n",
       "    </tr>\n",
       "    <tr>\n",
       "      <th>3</th>\n",
       "      <td>3</td>\n",
       "      <td>22</td>\n",
       "      <td>1</td>\n",
       "      <td>28</td>\n",
       "      <td>1</td>\n",
       "      <td>32.0</td>\n",
       "      <td>0</td>\n",
       "      <td>0</td>\n",
       "      <td>0</td>\n",
       "      <td>0</td>\n",
       "    </tr>\n",
       "    <tr>\n",
       "      <th>4</th>\n",
       "      <td>4</td>\n",
       "      <td>318</td>\n",
       "      <td>1</td>\n",
       "      <td>447</td>\n",
       "      <td>1</td>\n",
       "      <td>31.5</td>\n",
       "      <td>1</td>\n",
       "      <td>0</td>\n",
       "      <td>0</td>\n",
       "      <td>0</td>\n",
       "    </tr>\n",
       "    <tr>\n",
       "      <th>5</th>\n",
       "      <td>5</td>\n",
       "      <td>30</td>\n",
       "      <td>1</td>\n",
       "      <td>12</td>\n",
       "      <td>1</td>\n",
       "      <td>10.0</td>\n",
       "      <td>0</td>\n",
       "      <td>0</td>\n",
       "      <td>0</td>\n",
       "      <td>0</td>\n",
       "    </tr>\n",
       "  </tbody>\n",
       "</table>\n",
       "</div>"
      ],
      "text/plain": [
       "   patient  time_to_first_recurrence  first_infect_recurrence  \\\n",
       "1        1                        16                        1   \n",
       "2        2                        13                        0   \n",
       "3        3                        22                        1   \n",
       "4        4                       318                        1   \n",
       "5        5                        30                        1   \n",
       "\n",
       "   time_to_second_recurrence  second_infect_recurrence   age  gender  gn  an  \\\n",
       "1                          8                         1  28.0       0   0   0   \n",
       "2                         23                         1  48.0       1   1   0   \n",
       "3                         28                         1  32.0       0   0   0   \n",
       "4                        447                         1  31.5       1   0   0   \n",
       "5                         12                         1  10.0       0   0   0   \n",
       "\n",
       "   pkd  \n",
       "1    0  \n",
       "2    0  \n",
       "3    0  \n",
       "4    0  \n",
       "5    0  "
      ]
     },
     "execution_count": 4,
     "metadata": {},
     "output_type": "execute_result"
    }
   ],
   "source": [
    "kidney_df.head()"
   ]
  },
  {
   "cell_type": "code",
   "execution_count": 5,
   "metadata": {},
   "outputs": [
    {
     "data": {
      "text/plain": [
       "patient                      0\n",
       "time_to_first_recurrence     0\n",
       "first_infect_recurrence      0\n",
       "time_to_second_recurrence    0\n",
       "second_infect_recurrence     0\n",
       "age                          0\n",
       "gender                       0\n",
       "gn                           0\n",
       "an                           0\n",
       "pkd                          0\n",
       "dtype: int64"
      ]
     },
     "execution_count": 5,
     "metadata": {},
     "output_type": "execute_result"
    }
   ],
   "source": [
    "#checking for empty values or nulls.\n",
    "kindey_df = kidney_df.replace(r'^\\s*$', np.nan, regex=True)\n",
    "kidney_df.isna().sum()"
   ]
  },
  {
   "cell_type": "code",
   "execution_count": 6,
   "metadata": {},
   "outputs": [],
   "source": [
    "object_cols = wrangle.get_object_cols(kidney_df)"
   ]
  },
  {
   "cell_type": "code",
   "execution_count": 8,
   "metadata": {},
   "outputs": [
    {
     "data": {
      "text/plain": [
       "['patient',\n",
       " 'time_to_first_recurrence',\n",
       " 'first_infect_recurrence',\n",
       " 'time_to_second_recurrence',\n",
       " 'second_infect_recurrence',\n",
       " 'age',\n",
       " 'gender',\n",
       " 'gn',\n",
       " 'an',\n",
       " 'pkd']"
      ]
     },
     "execution_count": 8,
     "metadata": {},
     "output_type": "execute_result"
    }
   ],
   "source": [
    "#defining numerical columns.\n",
    "numeric_cols= wrangle.get_numeric_X_cols(kidney_df, object_cols)\n",
    "numeric_cols"
   ]
  },
  {
   "cell_type": "code",
   "execution_count": null,
   "metadata": {},
   "outputs": [],
   "source": [
    "### im lost and done with this. starting on zillow."
   ]
  }
 ],
 "metadata": {
  "kernelspec": {
   "display_name": "Python 3",
   "language": "python",
   "name": "python3"
  },
  "language_info": {
   "codemirror_mode": {
    "name": "ipython",
    "version": 3
   },
   "file_extension": ".py",
   "mimetype": "text/x-python",
   "name": "python",
   "nbconvert_exporter": "python",
   "pygments_lexer": "ipython3",
   "version": "3.8.5"
  }
 },
 "nbformat": 4,
 "nbformat_minor": 4
}
